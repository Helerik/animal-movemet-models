{
 "cells": [
  {
   "cell_type": "code",
   "execution_count": 1,
   "metadata": {},
   "outputs": [
    {
     "name": "stdout",
     "output_type": "stream",
     "text": [
      "\n",
      "Packages imported successfully\n",
      "\n"
     ]
    }
   ],
   "source": [
    "import tensorflow as tf\n",
    "from tensorflow.keras.utils import to_categorical\n",
    "import numpy as np\n",
    "import pandas as pd\n",
    "from sklearn.preprocessing import StandardScaler as std_scaler, OneHotEncoder as OHE\n",
    "import pickle\n",
    "import json\n",
    "import matplotlib.pyplot as plt\n",
    "import time\n",
    "import gc\n",
    "\n",
    "print(\"\\nPackages imported successfully\\n\")"
   ]
  },
  {
   "cell_type": "code",
   "execution_count": 2,
   "metadata": {},
   "outputs": [],
   "source": [
    "# Handling jaguar movement data\n",
    "class JaguarDataHandler():\n",
    "    def __init__(self, directory = \"./data/jaguar_data/\"):\n",
    "        self.directory = directory\n",
    "        self.datasets = []\n",
    "        self.training_Xs = []\n",
    "        self.training_Ys = []\n",
    "        \n",
    "    def load_data(self, IDs = None):\n",
    "        for id in IDs:\n",
    "            name = \"jag_\"+str(id)+\".csv\"\n",
    "            chunk = pd.read_csv(self.directory+name, sep = \",\", decimal = \".\", chunksize = 10000)\n",
    "            data = pd.concat(chunk, ignore_index = True)\n",
    "            del chunk\n",
    "            self.datasets.append(\n",
    "                data\n",
    "            )\n",
    "        return 0\n",
    "    \n",
    "    def data2training(self, variables, target_variables, target, step_ID, jaguar_ID = None,\n",
    "                      del_IDs = True, del_original = False):\n",
    "        \n",
    "        if not target in target_variables:\n",
    "            return -1\n",
    "        if del_IDs and not step_ID:\n",
    "            return -1\n",
    "        \n",
    "        for data in self.datasets:\n",
    "            J = data.copy()\n",
    "            X = J.filter(variables)\n",
    "            Y = J.filter(target_variables)\n",
    "            step_id = J[step_ID].unique()\n",
    "            X_tf = []\n",
    "            Y_tf = []\n",
    "            for i in step_id:\n",
    "                X_tmp = X[(X[step_ID] == i)]\n",
    "                Y_tmp = Y[(Y[step_ID] == i)]\n",
    "                Y_tmp = Y_tmp.filter([target])\n",
    "                \n",
    "                if del_IDs:\n",
    "                    X_tmp.drop([jaguar_ID, step_ID], axis = 1, inplace = True)\n",
    "                \n",
    "                X_tf.append(X_tmp.to_numpy())\n",
    "                Y_tf.append(Y_tmp.to_numpy().T)\n",
    "            X_tf = tf.constant(X_tf)\n",
    "            Y_tf = tf.constant(Y_tf)\n",
    "            Y_tf = tf.reshape(Y_tf, [Y_tf.shape[0],Y_tf.shape[2]])\n",
    "            self.training_Xs.append(X_tf)\n",
    "            self.training_Ys.append(Y_tf)\n",
    "        \n",
    "        if del_original:\n",
    "            self.datasets = []\n",
    "            \n",
    "        return 0"
   ]
  },
  {
   "cell_type": "code",
   "execution_count": 3,
   "metadata": {},
   "outputs": [
    {
     "name": "stderr",
     "output_type": "stream",
     "text": [
      "c:\\users\\cliente\\appdata\\local\\programs\\python\\python38\\lib\\site-packages\\pandas\\core\\frame.py:3990: SettingWithCopyWarning: \n",
      "A value is trying to be set on a copy of a slice from a DataFrame\n",
      "\n",
      "See the caveats in the documentation: https://pandas.pydata.org/pandas-docs/stable/user_guide/indexing.html#returning-a-view-versus-a-copy\n",
      "  return super().drop(\n"
     ]
    },
    {
     "data": {
      "text/plain": [
       "0"
      ]
     },
     "execution_count": 3,
     "metadata": {},
     "output_type": "execute_result"
    }
   ],
   "source": [
    "# Create data handler\n",
    "data_handler = JaguarDataHandler()\n",
    "\n",
    "# Importing Jaguars data\n",
    "data_handler.load_data(IDs = [12,13,18,22,23,41,52,81,88,91,92,116,117])\n",
    "\n",
    "variables = ['jaguar_ID', 'step_Num', 'step_length','hour','slope','topo','distdrain','distwater','tcover',\n",
    "             'MaxNDVI', 'MedNDVI', 'landcover', 'humanfoot', 'popden', 'livestock', 'dist12', 'dist345', 'distanthropic',\n",
    "             'distPA', 'month_Apr', 'month_Aug', 'month_Dec', 'month_Feb', 'month_Jan', 'month_Jul', 'month_Jun',\n",
    "             'month_Mar', 'month_May', 'month_Nov', 'month_Oct', 'month_Sep', 'landC_anthropic', 'landC_natural',\n",
    "             'landC_water', 'landC2_agro', 'landC2_nat_cover', 'landC2_nat_uncover', 'landC3_forest', 'landC3_grassland',\n",
    "             'landC3_pasture_mosaic', 'landC3_shrubland', 'landC3_wetland_mangrove', 'suggested_x', 'suggested_y']\n",
    "target_variables = ['jaguar_ID', 'step_Num', 'case_']\n",
    "target = 'case_'\n",
    "step_ID = 'step_Num'\n",
    "jaguar_ID = 'jaguar_ID'\n",
    "\n",
    "data_handler.data2training(variables,target_variables,target,step_ID,jaguar_ID)"
   ]
  },
  {
   "cell_type": "code",
   "execution_count": 36,
   "metadata": {},
   "outputs": [],
   "source": [
    "class noiseLayer(tf.keras.layers.Layer):\n",
    "\n",
    "    def __init__(self,minVal,maxVal,seed = None):\n",
    "        super(noiseLayer, self).__init__()\n",
    "        self.minVal = minVal\n",
    "        self.maxVal = maxVal\n",
    "        self.seed = seed\n",
    "\n",
    "    def call(self, inp):\n",
    "\n",
    "        minVal = self.minVal\n",
    "        maxVal  = self.maxVal\n",
    "        seed = self.seed\n",
    "\n",
    "        return inp + tf.random.uniform(tf.shape(inp), \n",
    "                                    minval = minVal,\n",
    "                                    maxval = maxVal,\n",
    "                                    seed = seed)\n",
    "\n",
    "# Conditional Logistic Regression Model using Keras and Tensorflow APIs (with l1 and l2 regularization options)\n",
    "class ConditionalLogisticRegression(tf.keras.Model):\n",
    "  def __init__(self, out_dim, l1 = 0, l2 = 0, name = 'model'):\n",
    "    super(ConditionalLogisticRegression, self).__init__(name=name)\n",
    "    self.layer1 = tf.keras.layers.Dense(1,'linear',kernel_regularizer=tf.keras.regularizers.l1_l2(l1=l1, l2=l2),)\n",
    "    self.layer2 = tf.keras.layers.Softmax(axis=-2)\n",
    "    self.noise = noiseLayer(0.00001,0.00009)\n",
    "  def call(self, input_tensor, training=False):\n",
    "    x = self.layer1(input_tensor,training=training)\n",
    "    x = self.layer2(x,training=training)\n",
    "    x = self.noise(x)\n",
    "    return x\n",
    "\n",
    "# Conditional NN Models using Keras and Tensorflow APIs (with l1 and l2 regularization options)\n",
    "class ConditionalNN1(tf.keras.Model):\n",
    "  def __init__(self, out_dim, l1 = 0, l2 = 0, name = 'model'):\n",
    "    super(ConditionalNN1, self).__init__(name=name)\n",
    "    self.layer1 = tf.keras.layers.Dense(10,'tanh',kernel_regularizer=tf.keras.regularizers.l1_l2(l1=l1, l2=l2))\n",
    "    self.layerL1 = tf.keras.layers.Dense(1,'linear',kernel_regularizer=tf.keras.regularizers.l1_l2(l1=l1, l2=l2))\n",
    "    self.layerL2 = tf.keras.layers.Softmax(axis=-2)\n",
    "    self.noise = noiseLayer(0.00001,0.00009)\n",
    "  def call(self, input_tensor, training=False):\n",
    "    x = self.layer1(input_tensor,training=training)\n",
    "    x = self.layerL1(x,training=training)\n",
    "    x = self.layerL2(x,training=training)\n",
    "    x = self.noise(x)\n",
    "    return x\n",
    "\n",
    "class ConditionalNN2(tf.keras.Model):\n",
    "  def __init__(self, out_dim, l1 = 0, l2 = 0, name = 'model'):\n",
    "    super(ConditionalNN2, self).__init__(name=name)\n",
    "    self.layer1 = tf.keras.layers.Dense(20,'tanh',kernel_regularizer=tf.keras.regularizers.l1_l2(l1=l1, l2=l2))\n",
    "    self.layerL1 = tf.keras.layers.Dense(1,'linear',kernel_regularizer=tf.keras.regularizers.l1_l2(l1=l1, l2=l2))\n",
    "    self.layerL2 = tf.keras.layers.Softmax(axis=-2)\n",
    "    self.noise = noiseLayer(0.00001,0.00009)\n",
    "  def call(self, input_tensor, training=False):\n",
    "    x = self.layer1(input_tensor,training=training)\n",
    "    x = self.layerL1(x,training=training)\n",
    "    x = self.layerL2(x,training=training)\n",
    "    x = self.noise(x)\n",
    "    return x\n",
    "\n",
    "class ConditionalNN11(tf.keras.Model):\n",
    "  def __init__(self, out_dim, l1 = 0, l2 = 0, name = 'model'):\n",
    "    super(ConditionalNN11, self).__init__(name=name)\n",
    "    self.layer1 = tf.keras.layers.Dense(10,'tanh',kernel_regularizer=tf.keras.regularizers.l1_l2(l1=l1, l2=l2))\n",
    "    self.layer2 = tf.keras.layers.Dense(10,'tanh',kernel_regularizer=tf.keras.regularizers.l1_l2(l1=l1, l2=l2))\n",
    "    self.layerL1 = tf.keras.layers.Dense(1,'linear',kernel_regularizer=tf.keras.regularizers.l1_l2(l1=l1, l2=l2))\n",
    "    self.layerL2 = tf.keras.layers.Softmax(axis=-2)\n",
    "    self.noise = noiseLayer(0.00001,0.00009)\n",
    "  def call(self, input_tensor, training=False):\n",
    "    x = self.layer1(input_tensor,training=training)\n",
    "    x = self.layer2(x,training=training)\n",
    "    x = self.layerL1(x,training=training)\n",
    "    x = self.layerL2(x,training=training)\n",
    "    x = self.noise(x)\n",
    "    return x\n",
    "\n",
    "class ConditionalNN12(tf.keras.Model):\n",
    "  def __init__(self, out_dim, l1 = 0, l2 = 0, name = 'model'):\n",
    "    super(ConditionalNN12, self).__init__(name=name)\n",
    "    self.layer1 = tf.keras.layers.Dense(20,'tanh',kernel_regularizer=tf.keras.regularizers.l1_l2(l1=l1, l2=l2))\n",
    "    self.layer2 = tf.keras.layers.Dense(20,'tanh',kernel_regularizer=tf.keras.regularizers.l1_l2(l1=l1, l2=l2))\n",
    "    self.layerL1 = tf.keras.layers.Dense(1,'linear',kernel_regularizer=tf.keras.regularizers.l1_l2(l1=l1, l2=l2))\n",
    "    self.layerL2 = tf.keras.layers.Softmax(axis=-2)\n",
    "    self.noise = noiseLayer(0.00001,0.00009)\n",
    "  def call(self, input_tensor, training=False):\n",
    "    x = self.layer1(input_tensor,training=training)\n",
    "    x = self.layer2(x,training=training)\n",
    "    x = self.layerL1(x,training=training)\n",
    "    x = self.layerL2(x,training=training)\n",
    "    x = self.noise(x)\n",
    "    return x\n",
    "\n",
    "class ConditionalNN21(tf.keras.Model):\n",
    "  def __init__(self, out_dim, l1 = 0, l2 = 0, name = 'model'):\n",
    "    super(ConditionalNN21, self).__init__(name=name)\n",
    "    self.layer1 = tf.keras.layers.Dense(10,'relu',kernel_regularizer=tf.keras.regularizers.l1_l2(l1=l1, l2=l2))\n",
    "    self.layer2 = tf.keras.layers.Dense(10,'relu',kernel_regularizer=tf.keras.regularizers.l1_l2(l1=l1, l2=l2))\n",
    "    self.layer3 = tf.keras.layers.Dense(10,'relu',kernel_regularizer=tf.keras.regularizers.l1_l2(l1=l1, l2=l2))\n",
    "    self.layer4 = tf.keras.layers.Dense(10,'relu',kernel_regularizer=tf.keras.regularizers.l1_l2(l1=l1, l2=l2))\n",
    "    self.layerL1 = tf.keras.layers.Dense(1,'linear',kernel_regularizer=tf.keras.regularizers.l1_l2(l1=l1, l2=l2))\n",
    "    self.layerL2 = tf.keras.layers.Softmax(axis=-2)\n",
    "    self.noise = noiseLayer(0.00001,0.00009)\n",
    "  def call(self, input_tensor, training=False):\n",
    "    x = self.layer1(input_tensor,training=training)\n",
    "    x = self.layer2(x,training=training)\n",
    "    x = self.layer3(x,training=training)\n",
    "    x = self.layer4(x,training=training)\n",
    "    x = self.layerL1(x,training=training)\n",
    "    x = self.layerL2(x,training=training)\n",
    "    x = self.noise(x)\n",
    "    return x\n",
    "\n",
    "class ConditionalNN22(tf.keras.Model):\n",
    "  def __init__(self, out_dim, l1 = 0, l2 = 0, name = 'model'):\n",
    "    super(ConditionalNN22, self).__init__(name=name)\n",
    "    self.layer1 = tf.keras.layers.Dense(20,'relu',kernel_regularizer=tf.keras.regularizers.l1_l2(l1=l1, l2=l2))\n",
    "    self.layer2 = tf.keras.layers.Dense(20,'relu',kernel_regularizer=tf.keras.regularizers.l1_l2(l1=l1, l2=l2))\n",
    "    self.layer3 = tf.keras.layers.Dense(20,'relu',kernel_regularizer=tf.keras.regularizers.l1_l2(l1=l1, l2=l2))\n",
    "    self.layer4 = tf.keras.layers.Dense(20,'relu',kernel_regularizer=tf.keras.regularizers.l1_l2(l1=l1, l2=l2))\n",
    "    self.layerL1 = tf.keras.layers.Dense(1,'linear',kernel_regularizer=tf.keras.regularizers.l1_l2(l1=l1, l2=l2))\n",
    "    self.layerL2 = tf.keras.layers.Softmax(axis=-2)\n",
    "    self.noise = noiseLayer(0.00001,0.00009)\n",
    "  def call(self, input_tensor, training=False):\n",
    "    x = self.layer1(input_tensor,training=training)\n",
    "    x = self.layer2(x,training=training)\n",
    "    x = self.layer3(x,training=training)\n",
    "    x = self.layer4(x,training=training)\n",
    "    x = self.layerL1(x,training=training)\n",
    "    x = self.layerL2(x,training=training)\n",
    "    x = self.noise(x)\n",
    "    return x\n",
    "\n",
    "class DeepConditionalNN(tf.keras.Model):\n",
    "  def __init__(self, out_dim, l1 = 0, l2 = 0, name = 'model'):\n",
    "    super(DeepConditionalNN, self).__init__(name=name)\n",
    "    self.layer1 = tf.keras.layers.Dense(20,'relu',kernel_regularizer=tf.keras.regularizers.l1_l2(l1=l1, l2=l2))\n",
    "    self.layer2 = tf.keras.layers.Dense(20,'relu',kernel_regularizer=tf.keras.regularizers.l1_l2(l1=l1, l2=l2))\n",
    "    self.layer3 = tf.keras.layers.Dense(20,'relu',kernel_regularizer=tf.keras.regularizers.l1_l2(l1=l1, l2=l2))\n",
    "    self.layer4 = tf.keras.layers.Dense(20,'relu',kernel_regularizer=tf.keras.regularizers.l1_l2(l1=l1, l2=l2))\n",
    "    self.layer5 = tf.keras.layers.Dense(20,'relu',kernel_regularizer=tf.keras.regularizers.l1_l2(l1=l1, l2=l2))\n",
    "    self.layer6 = tf.keras.layers.Dense(20,'relu',kernel_regularizer=tf.keras.regularizers.l1_l2(l1=l1, l2=l2))\n",
    "    self.layer7 = tf.keras.layers.Dense(20,'relu',kernel_regularizer=tf.keras.regularizers.l1_l2(l1=l1, l2=l2))\n",
    "    self.layerL1 = tf.keras.layers.Dense(1,'linear',kernel_regularizer=tf.keras.regularizers.l1_l2(l1=l1, l2=l2))\n",
    "    self.layerL2 = tf.keras.layers.Softmax(axis=-2)\n",
    "    self.noise = noiseLayer(0.00001,0.00009)\n",
    "  def call(self, input_tensor, training=False):\n",
    "    x = self.layer1(input_tensor,training=training)\n",
    "    x = self.layer2(x,training=training)\n",
    "    x = self.layer3(x,training=training)\n",
    "    x = self.layer4(x,training=training)\n",
    "    x = self.layer5(x,training=training)\n",
    "    x = self.layer6(x,training=training)\n",
    "    x = self.layer7(x,training=training)\n",
    "    x = self.layerL1(x,training=training)\n",
    "    x = self.layerL2(x,training=training)\n",
    "    x = self.noise(x)\n",
    "    return x"
   ]
  },
  {
   "cell_type": "code",
   "execution_count": 5,
   "metadata": {},
   "outputs": [
    {
     "data": {
      "text/plain": [
       "60"
      ]
     },
     "execution_count": 5,
     "metadata": {},
     "output_type": "execute_result"
    }
   ],
   "source": [
    "# Create n_folds folds\n",
    "n_folds = 7\n",
    "\n",
    "x_train = tf.reverse(tf.concat(data_handler.training_Xs,axis=0),axis=[1])\n",
    "y_train = tf.reverse(tf.concat(data_handler.training_Ys,axis=0),axis=[1])\n",
    "\n",
    "indices = tf.range(start=0, limit=tf.shape(x_train)[0], dtype=tf.int32)\n",
    "shuffled_indices = tf.random.shuffle(indices)\n",
    "\n",
    "x_train = tf.gather(x_train, shuffled_indices)\n",
    "y_train = tf.gather(y_train, shuffled_indices)\n",
    "\n",
    "x_folds = tf.split(x_train,n_folds,axis=0)\n",
    "y_folds = tf.split(y_train,n_folds,axis=0)\n",
    "\n",
    "gc.collect()"
   ]
  },
  {
   "cell_type": "code",
   "execution_count": 37,
   "metadata": {},
   "outputs": [
    {
     "name": "stdout",
     "output_type": "stream",
     "text": [
      "1/1 [==============================] - 0s 399ms/step - loss: 5.0720 - categorical_accuracy: 0.0374\n",
      "1/1 [==============================] - 0s 159ms/step - loss: 5.0620 - categorical_accuracy: 0.0324\n",
      "1/1 [==============================] - 1s 521ms/step - loss: 4.8056 - categorical_accuracy: 0.0674\n",
      "1/1 [==============================] - 0s 229ms/step - loss: 4.9222 - categorical_accuracy: 0.0562\n"
     ]
    },
    {
     "ename": "KeyboardInterrupt",
     "evalue": "",
     "output_type": "error",
     "traceback": [
      "\u001b[1;31m---------------------------------------------------------------------------\u001b[0m",
      "\u001b[1;31mKeyboardInterrupt\u001b[0m                         Traceback (most recent call last)",
      "\u001b[1;32m<ipython-input-37-18240f066a66>\u001b[0m in \u001b[0;36m<module>\u001b[1;34m\u001b[0m\n\u001b[0;32m     21\u001b[0m     all_models[i][0].compile(optimizer=tf.keras.optimizers.Adam(learning_rate=learning_rate),\n\u001b[0;32m     22\u001b[0m               loss=\"categorical_crossentropy\",metrics=[tf.keras.metrics.CategoricalAccuracy()])\n\u001b[1;32m---> 23\u001b[1;33m     history = all_models[i][0].fit(x_train[:,:,0:40], y_train, epochs = 750,\n\u001b[0m\u001b[0;32m     24\u001b[0m               \u001b[0mbatch_size\u001b[0m \u001b[1;33m=\u001b[0m \u001b[0mmini_batch_size\u001b[0m\u001b[1;33m,\u001b[0m \u001b[0mshuffle\u001b[0m \u001b[1;33m=\u001b[0m \u001b[1;32mFalse\u001b[0m\u001b[1;33m,\u001b[0m \u001b[0mverbose\u001b[0m \u001b[1;33m=\u001b[0m \u001b[1;36m0\u001b[0m\u001b[1;33m,\u001b[0m\u001b[1;33m\u001b[0m\u001b[1;33m\u001b[0m\u001b[0m\n\u001b[0;32m     25\u001b[0m               callbacks=[tf.keras.callbacks.EarlyStopping(monitor='loss', patience=35)])\n",
      "\u001b[1;32mc:\\users\\cliente\\appdata\\local\\programs\\python\\python38\\lib\\site-packages\\keras\\engine\\training.py\u001b[0m in \u001b[0;36mfit\u001b[1;34m(self, x, y, batch_size, epochs, verbose, callbacks, validation_split, validation_data, shuffle, class_weight, sample_weight, initial_epoch, steps_per_epoch, validation_steps, validation_batch_size, validation_freq, max_queue_size, workers, use_multiprocessing)\u001b[0m\n\u001b[0;32m   1182\u001b[0m                 _r=1):\n\u001b[0;32m   1183\u001b[0m               \u001b[0mcallbacks\u001b[0m\u001b[1;33m.\u001b[0m\u001b[0mon_train_batch_begin\u001b[0m\u001b[1;33m(\u001b[0m\u001b[0mstep\u001b[0m\u001b[1;33m)\u001b[0m\u001b[1;33m\u001b[0m\u001b[1;33m\u001b[0m\u001b[0m\n\u001b[1;32m-> 1184\u001b[1;33m               \u001b[0mtmp_logs\u001b[0m \u001b[1;33m=\u001b[0m \u001b[0mself\u001b[0m\u001b[1;33m.\u001b[0m\u001b[0mtrain_function\u001b[0m\u001b[1;33m(\u001b[0m\u001b[0miterator\u001b[0m\u001b[1;33m)\u001b[0m\u001b[1;33m\u001b[0m\u001b[1;33m\u001b[0m\u001b[0m\n\u001b[0m\u001b[0;32m   1185\u001b[0m               \u001b[1;32mif\u001b[0m \u001b[0mdata_handler\u001b[0m\u001b[1;33m.\u001b[0m\u001b[0mshould_sync\u001b[0m\u001b[1;33m:\u001b[0m\u001b[1;33m\u001b[0m\u001b[1;33m\u001b[0m\u001b[0m\n\u001b[0;32m   1186\u001b[0m                 \u001b[0mcontext\u001b[0m\u001b[1;33m.\u001b[0m\u001b[0masync_wait\u001b[0m\u001b[1;33m(\u001b[0m\u001b[1;33m)\u001b[0m\u001b[1;33m\u001b[0m\u001b[1;33m\u001b[0m\u001b[0m\n",
      "\u001b[1;32mc:\\users\\cliente\\appdata\\local\\programs\\python\\python38\\lib\\site-packages\\tensorflow\\python\\eager\\def_function.py\u001b[0m in \u001b[0;36m__call__\u001b[1;34m(self, *args, **kwds)\u001b[0m\n\u001b[0;32m    883\u001b[0m \u001b[1;33m\u001b[0m\u001b[0m\n\u001b[0;32m    884\u001b[0m       \u001b[1;32mwith\u001b[0m \u001b[0mOptionalXlaContext\u001b[0m\u001b[1;33m(\u001b[0m\u001b[0mself\u001b[0m\u001b[1;33m.\u001b[0m\u001b[0m_jit_compile\u001b[0m\u001b[1;33m)\u001b[0m\u001b[1;33m:\u001b[0m\u001b[1;33m\u001b[0m\u001b[1;33m\u001b[0m\u001b[0m\n\u001b[1;32m--> 885\u001b[1;33m         \u001b[0mresult\u001b[0m \u001b[1;33m=\u001b[0m \u001b[0mself\u001b[0m\u001b[1;33m.\u001b[0m\u001b[0m_call\u001b[0m\u001b[1;33m(\u001b[0m\u001b[1;33m*\u001b[0m\u001b[0margs\u001b[0m\u001b[1;33m,\u001b[0m \u001b[1;33m**\u001b[0m\u001b[0mkwds\u001b[0m\u001b[1;33m)\u001b[0m\u001b[1;33m\u001b[0m\u001b[1;33m\u001b[0m\u001b[0m\n\u001b[0m\u001b[0;32m    886\u001b[0m \u001b[1;33m\u001b[0m\u001b[0m\n\u001b[0;32m    887\u001b[0m       \u001b[0mnew_tracing_count\u001b[0m \u001b[1;33m=\u001b[0m \u001b[0mself\u001b[0m\u001b[1;33m.\u001b[0m\u001b[0mexperimental_get_tracing_count\u001b[0m\u001b[1;33m(\u001b[0m\u001b[1;33m)\u001b[0m\u001b[1;33m\u001b[0m\u001b[1;33m\u001b[0m\u001b[0m\n",
      "\u001b[1;32mc:\\users\\cliente\\appdata\\local\\programs\\python\\python38\\lib\\site-packages\\tensorflow\\python\\eager\\def_function.py\u001b[0m in \u001b[0;36m_call\u001b[1;34m(self, *args, **kwds)\u001b[0m\n\u001b[0;32m    915\u001b[0m       \u001b[1;31m# In this case we have created variables on the first call, so we run the\u001b[0m\u001b[1;33m\u001b[0m\u001b[1;33m\u001b[0m\u001b[1;33m\u001b[0m\u001b[0m\n\u001b[0;32m    916\u001b[0m       \u001b[1;31m# defunned version which is guaranteed to never create variables.\u001b[0m\u001b[1;33m\u001b[0m\u001b[1;33m\u001b[0m\u001b[1;33m\u001b[0m\u001b[0m\n\u001b[1;32m--> 917\u001b[1;33m       \u001b[1;32mreturn\u001b[0m \u001b[0mself\u001b[0m\u001b[1;33m.\u001b[0m\u001b[0m_stateless_fn\u001b[0m\u001b[1;33m(\u001b[0m\u001b[1;33m*\u001b[0m\u001b[0margs\u001b[0m\u001b[1;33m,\u001b[0m \u001b[1;33m**\u001b[0m\u001b[0mkwds\u001b[0m\u001b[1;33m)\u001b[0m  \u001b[1;31m# pylint: disable=not-callable\u001b[0m\u001b[1;33m\u001b[0m\u001b[1;33m\u001b[0m\u001b[0m\n\u001b[0m\u001b[0;32m    918\u001b[0m     \u001b[1;32melif\u001b[0m \u001b[0mself\u001b[0m\u001b[1;33m.\u001b[0m\u001b[0m_stateful_fn\u001b[0m \u001b[1;32mis\u001b[0m \u001b[1;32mnot\u001b[0m \u001b[1;32mNone\u001b[0m\u001b[1;33m:\u001b[0m\u001b[1;33m\u001b[0m\u001b[1;33m\u001b[0m\u001b[0m\n\u001b[0;32m    919\u001b[0m       \u001b[1;31m# Release the lock early so that multiple threads can perform the call\u001b[0m\u001b[1;33m\u001b[0m\u001b[1;33m\u001b[0m\u001b[1;33m\u001b[0m\u001b[0m\n",
      "\u001b[1;32mc:\\users\\cliente\\appdata\\local\\programs\\python\\python38\\lib\\site-packages\\tensorflow\\python\\eager\\function.py\u001b[0m in \u001b[0;36m__call__\u001b[1;34m(self, *args, **kwargs)\u001b[0m\n\u001b[0;32m   3037\u001b[0m       (graph_function,\n\u001b[0;32m   3038\u001b[0m        filtered_flat_args) = self._maybe_define_function(args, kwargs)\n\u001b[1;32m-> 3039\u001b[1;33m     return graph_function._call_flat(\n\u001b[0m\u001b[0;32m   3040\u001b[0m         filtered_flat_args, captured_inputs=graph_function.captured_inputs)  # pylint: disable=protected-access\n\u001b[0;32m   3041\u001b[0m \u001b[1;33m\u001b[0m\u001b[0m\n",
      "\u001b[1;32mc:\\users\\cliente\\appdata\\local\\programs\\python\\python38\\lib\\site-packages\\tensorflow\\python\\eager\\function.py\u001b[0m in \u001b[0;36m_call_flat\u001b[1;34m(self, args, captured_inputs, cancellation_manager)\u001b[0m\n\u001b[0;32m   1961\u001b[0m         and executing_eagerly):\n\u001b[0;32m   1962\u001b[0m       \u001b[1;31m# No tape is watching; skip to running the function.\u001b[0m\u001b[1;33m\u001b[0m\u001b[1;33m\u001b[0m\u001b[1;33m\u001b[0m\u001b[0m\n\u001b[1;32m-> 1963\u001b[1;33m       return self._build_call_outputs(self._inference_function.call(\n\u001b[0m\u001b[0;32m   1964\u001b[0m           ctx, args, cancellation_manager=cancellation_manager))\n\u001b[0;32m   1965\u001b[0m     forward_backward = self._select_forward_and_backward_functions(\n",
      "\u001b[1;32mc:\\users\\cliente\\appdata\\local\\programs\\python\\python38\\lib\\site-packages\\tensorflow\\python\\eager\\function.py\u001b[0m in \u001b[0;36mcall\u001b[1;34m(self, ctx, args, cancellation_manager)\u001b[0m\n\u001b[0;32m    589\u001b[0m       \u001b[1;32mwith\u001b[0m \u001b[0m_InterpolateFunctionError\u001b[0m\u001b[1;33m(\u001b[0m\u001b[0mself\u001b[0m\u001b[1;33m)\u001b[0m\u001b[1;33m:\u001b[0m\u001b[1;33m\u001b[0m\u001b[1;33m\u001b[0m\u001b[0m\n\u001b[0;32m    590\u001b[0m         \u001b[1;32mif\u001b[0m \u001b[0mcancellation_manager\u001b[0m \u001b[1;32mis\u001b[0m \u001b[1;32mNone\u001b[0m\u001b[1;33m:\u001b[0m\u001b[1;33m\u001b[0m\u001b[1;33m\u001b[0m\u001b[0m\n\u001b[1;32m--> 591\u001b[1;33m           outputs = execute.execute(\n\u001b[0m\u001b[0;32m    592\u001b[0m               \u001b[0mstr\u001b[0m\u001b[1;33m(\u001b[0m\u001b[0mself\u001b[0m\u001b[1;33m.\u001b[0m\u001b[0msignature\u001b[0m\u001b[1;33m.\u001b[0m\u001b[0mname\u001b[0m\u001b[1;33m)\u001b[0m\u001b[1;33m,\u001b[0m\u001b[1;33m\u001b[0m\u001b[1;33m\u001b[0m\u001b[0m\n\u001b[0;32m    593\u001b[0m               \u001b[0mnum_outputs\u001b[0m\u001b[1;33m=\u001b[0m\u001b[0mself\u001b[0m\u001b[1;33m.\u001b[0m\u001b[0m_num_outputs\u001b[0m\u001b[1;33m,\u001b[0m\u001b[1;33m\u001b[0m\u001b[1;33m\u001b[0m\u001b[0m\n",
      "\u001b[1;32mc:\\users\\cliente\\appdata\\local\\programs\\python\\python38\\lib\\site-packages\\tensorflow\\python\\eager\\execute.py\u001b[0m in \u001b[0;36mquick_execute\u001b[1;34m(op_name, num_outputs, inputs, attrs, ctx, name)\u001b[0m\n\u001b[0;32m     57\u001b[0m   \u001b[1;32mtry\u001b[0m\u001b[1;33m:\u001b[0m\u001b[1;33m\u001b[0m\u001b[1;33m\u001b[0m\u001b[0m\n\u001b[0;32m     58\u001b[0m     \u001b[0mctx\u001b[0m\u001b[1;33m.\u001b[0m\u001b[0mensure_initialized\u001b[0m\u001b[1;33m(\u001b[0m\u001b[1;33m)\u001b[0m\u001b[1;33m\u001b[0m\u001b[1;33m\u001b[0m\u001b[0m\n\u001b[1;32m---> 59\u001b[1;33m     tensors = pywrap_tfe.TFE_Py_Execute(ctx._handle, device_name, op_name,\n\u001b[0m\u001b[0;32m     60\u001b[0m                                         inputs, attrs, num_outputs)\n\u001b[0;32m     61\u001b[0m   \u001b[1;32mexcept\u001b[0m \u001b[0mcore\u001b[0m\u001b[1;33m.\u001b[0m\u001b[0m_NotOkStatusException\u001b[0m \u001b[1;32mas\u001b[0m \u001b[0me\u001b[0m\u001b[1;33m:\u001b[0m\u001b[1;33m\u001b[0m\u001b[1;33m\u001b[0m\u001b[0m\n",
      "\u001b[1;31mKeyboardInterrupt\u001b[0m: "
     ]
    }
   ],
   "source": [
    "all_models =    [[ConditionalLogisticRegression(out_dim = 201, l1 = 0, l2 = 0), [0.001,0,0,1024]],\n",
    "                 [ConditionalNN2(out_dim = 201,    l1 = 0, l2 = 0), [0.005,0,0.00005,1024]],\n",
    "                 [ConditionalLogisticRegression(out_dim = 201, l1 = 0, l2 = 0), [0.00001,0.005,0.005,512]],\n",
    "                 [ConditionalNN11(out_dim = 201,   l1 = 0, l2 = 0), [0.00001,0.005,0.005,512]]\n",
    "]\n",
    "\n",
    "weights = []\n",
    "\n",
    "# Test every model\n",
    "for i in range(len(all_models)):\n",
    "    \n",
    "    learning_rate, l1, l2, mini_batch_size = all_models[i][1][0],all_models[i][1][1],all_models[i][1][2],all_models[i][1][3]\n",
    "\n",
    "    L = 0\n",
    "\n",
    "    x_train = tf.concat(x_folds[:L] + x_folds[L+1:], axis=0)\n",
    "    x_test = tf.concat(x_folds[L],axis=0)\n",
    "\n",
    "    y_train = tf.concat(y_folds[:L] + y_folds[L+1:], axis=0)\n",
    "    y_test = y_folds[L]\n",
    "\n",
    "    all_models[i][0].__init__(out_dim=201,l1=l1,l2=l2,name='model'+str(i))\n",
    "    all_models[i][0].compile(optimizer=tf.keras.optimizers.Adam(learning_rate=learning_rate),\n",
    "              loss=\"categorical_crossentropy\",metrics=[tf.keras.metrics.CategoricalAccuracy()])\n",
    "    history = all_models[i][0].fit(x_train[:,:,0:40], y_train, epochs = 750,\n",
    "              batch_size = mini_batch_size, shuffle = False, verbose = 0,\n",
    "              callbacks=[tf.keras.callbacks.EarlyStopping(monitor='loss', patience=35)])\n",
    "\n",
    "    # Evaluate model on training and test sets\n",
    "    loss_train, acc_train = all_models[i][0].evaluate(x_train[:,:,0:40],y_train,batch_size=x_train.shape[0])\n",
    "    loss_test, acc_test = all_models[i][0].evaluate(x_test[:,:,0:40],y_test,batch_size=x_test.shape[0])"
   ]
  },
  {
   "cell_type": "code",
   "execution_count": 4,
   "metadata": {},
   "outputs": [],
   "source": [
    "def plot_logit_weights(model = None, weights = None):\n",
    "    if model is not None:\n",
    "        plt.grid(zorder=0)\n",
    "        x = np.array(['step_length','hour','slope','topo','distdrain','distwater','tcover',\n",
    "        'MaxNDVI', 'MedNDVI', 'landcover', 'humanfoot', 'popden', 'livestock', 'dist12', 'dist345', 'distanthropic',\n",
    "        'distPA', 'month_Apr', 'month_Aug', 'month_Dec', 'month_Feb', 'month_Jan', 'month_Jul', 'month_Jun',\n",
    "        'month_Mar', 'month_May', 'month_Nov', 'month_Oct', 'month_Sep', 'landC_anthropic', 'landC_natural',\n",
    "        'landC_water', 'landC2_agro', 'landC2_nat_cover', 'landC2_nat_uncover', 'landC3_forest', 'landC3_grassland',\n",
    "        'landC3_pasture_mosaic', 'landC3_shrubland', 'landC3_wetland_mangrove'])\n",
    "        y = np.array(model.get_weights()[0].T.tolist()[0])\n",
    "\n",
    "        mask1 = y < 0\n",
    "        mask2 = y >= 0\n",
    "\n",
    "        plt.bar(x[mask1], y[mask1], color = 'red')\n",
    "        plt.bar(x[mask2], y[mask2], color = 'blue')\n",
    "        plt.xticks(rotation = 90)\n",
    "    elif weights is not None:\n",
    "        plt.grid(zorder=0)\n",
    "        x = np.array(['step_length','hour','slope','topo','distdrain','distwater','tcover',\n",
    "        'MaxNDVI', 'MedNDVI', 'landcover', 'humanfoot', 'popden', 'livestock', 'dist12', 'dist345', 'distanthropic',\n",
    "        'distPA', 'month_Apr', 'month_Aug', 'month_Dec', 'month_Feb', 'month_Jan', 'month_Jul', 'month_Jun',\n",
    "        'month_Mar', 'month_May', 'month_Nov', 'month_Oct', 'month_Sep', 'landC_anthropic', 'landC_natural',\n",
    "        'landC_water', 'landC2_agro', 'landC2_nat_cover', 'landC2_nat_uncover', 'landC3_forest', 'landC3_grassland',\n",
    "        'landC3_pasture_mosaic', 'landC3_shrubland', 'landC3_wetland_mangrove'])\n",
    "        y = np.array(weights)\n",
    "\n",
    "        plt.bar(x, y)\n",
    "        plt.xticks(rotation = 90)\n",
    "    else:\n",
    "        return"
   ]
  },
  {
   "cell_type": "code",
   "execution_count": 8,
   "metadata": {},
   "outputs": [
    {
     "data": {
      "image/png": "[encoded data removed]",
      "text/plain": [
       "<Figure size 720x432 with 1 Axes>"
      ]
     },
     "metadata": {
      "needs_background": "light"
     },
     "output_type": "display_data"
    }
   ],
   "source": [
    "fig = plt.figure()\n",
    "fig.set_size_inches(10.,6.)\n",
    "plot_logit_weights(weights = [1.56712483e+00, -9.10944704e-02,  2.18394182e-01,  3.48886171e-01,\n",
    "       -1.18171103e-01, -3.94138664e-01,  2.14385022e-02,  6.72100295e-04,\n",
    "        1.21081205e-01, -8.53383365e-02,  6.17535178e-02,  3.92231448e-02,\n",
    "       -2.62184488e-04,  4.61805557e-01, -4.65185110e-01, -5.51365144e-02,\n",
    "       -1.12447660e+00,  4.54042533e-02, -8.46729529e-02,  1.97812350e-01,\n",
    "       -4.12556870e-02,  2.98238423e-02, -4.29031796e-02, -3.36315036e-02,\n",
    "        5.22485163e-03, -4.07065648e-02, -1.71008209e-02,  7.31715254e-02,\n",
    "        8.11445777e-02,  5.83897382e-02, -3.62693763e-02,  7.68797360e-02,\n",
    "       -1.65730279e-01,  1.77608447e-01, -2.61445555e-01,  2.74731486e-01,\n",
    "        2.54228392e-02,  1.42553199e-02, -2.16173730e-01, -2.26203851e-01])\n",
    "plt.savefig('clr_acc.png', dpi=300, bbox_inches='tight')\n",
    "plt.show()"
   ]
  },
  {
   "cell_type": "code",
   "execution_count": 9,
   "metadata": {},
   "outputs": [
    {
     "data": {
      "image/png": "[encoded data removed]",
      "text/plain": [
       "<Figure size 720x432 with 1 Axes>"
      ]
     },
     "metadata": {
      "needs_background": "light"
     },
     "output_type": "display_data"
    }
   ],
   "source": [
    "fig = plt.figure()\n",
    "fig.set_size_inches(10.,6.)\n",
    "plot_logit_weights(weights = [ 1.46115637,  0.08872556,  0.22644396,  0.32767394, -0.14923325,\n",
    "       -0.38996604,  0.01882924,  0.0230976 ,  0.13378763, -0.14773519,\n",
    "        0.08795583,  0.01536093, -0.01767525, -0.38707325, -0.76839131,\n",
    "       -0.01073295, -1.31378305, -0.18655579, -0.15843545,  0.25271836,\n",
    "       -0.31058297, -0.35640264,  0.04357056, -0.08937344,  0.23739251,\n",
    "        0.16649823, -0.01398363,  0.20008893,  0.25795788,  0.16176695,\n",
    "       -0.23214805,  0.08720637, -0.2440384 ,  0.36253321, -0.45266336,\n",
    "       -0.0056031 ,  0.28997561,  0.03381855, -0.52509886, -0.06602078])\n",
    "plt.savefig('clr_dist.png', dpi=300, bbox_inches='tight')\n",
    "plt.show()"
   ]
  },
  {
   "cell_type": "code",
   "execution_count": null,
   "metadata": {},
   "outputs": [],
   "source": []
  },
  {
   "cell_type": "code",
   "execution_count": null,
   "metadata": {},
   "outputs": [],
   "source": [
    "# Utility: measures distance between two 2D coordinates\n",
    "def dist(a,b):\n",
    "    return np.sqrt(np.square(a[0]-b[0]) + np.square(a[1]-b[1]))"
   ]
  }
 ],
 "metadata": {
  "kernelspec": {
   "display_name": "Python 3",
   "language": "python",
   "name": "python3"
  },
  "language_info": {
   "codemirror_mode": {
    "name": "ipython",
    "version": 3
   },
   "file_extension": ".py",
   "mimetype": "text/x-python",
   "name": "python",
   "nbconvert_exporter": "python",
   "pygments_lexer": "ipython3",
   "version": "3.8.1"
  },
  "varInspector": {
   "cols": {
    "lenName": 16,
    "lenType": 16,
    "lenVar": 40
   },
   "kernels_config": {
    "python": {
     "delete_cmd_postfix": "",
     "delete_cmd_prefix": "del ",
     "library": "var_list.py",
     "varRefreshCmd": "print(var_dic_list())"
    },
    "r": {
     "delete_cmd_postfix": ") ",
     "delete_cmd_prefix": "rm(",
     "library": "var_list.r",
     "varRefreshCmd": "cat(var_dic_list()) "
    }
   },
   "position": {
    "height": "557.844px",
    "left": "1526px",
    "right": "20px",
    "top": "120px",
    "width": "374px"
   },
   "types_to_exclude": [
    "module",
    "function",
    "builtin_function_or_method",
    "instance",
    "_Feature"
   ],
   "window_display": true
  }
 },
 "nbformat": 4,
 "nbformat_minor": 4
}
