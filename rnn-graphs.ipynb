{
  "cells": [
    {
      "cell_type": "markdown",
      "metadata": {
        "id": "view-in-github",
        "colab_type": "text"
      },
      "source": [
        "<a href=\"https://colab.research.google.com/github/Helerik/animal-movemet-models/blob/main/rnn-graphs.ipynb\" target=\"_parent\"><img src=\"https://colab.research.google.com/assets/colab-badge.svg\" alt=\"Open In Colab\"/></a>"
      ]
    },
    {
      "cell_type": "markdown",
      "metadata": {
        "id": "jUWpeIrj2fjv"
      },
      "source": [
        "# Importing necessary packages/libraries/APIs"
      ]
    },
    {
      "cell_type": "code",
      "source": [
        "from google.colab import drive\n",
        "drive.mount('/content/drive')"
      ],
      "metadata": {
        "colab": {
          "base_uri": "https://localhost:8080/"
        },
        "id": "L3FGPdxY816O",
        "outputId": "c80d4468-cb00-4f8c-b46f-96a1eb995555"
      },
      "execution_count": null,
      "outputs": [
        {
          "output_type": "stream",
          "name": "stdout",
          "text": [
            "Mounted at /content/drive\n"
          ]
        }
      ]
    },
    {
      "cell_type": "code",
      "execution_count": null,
      "metadata": {
        "id": "V7KY__0u2fj3"
      },
      "outputs": [],
      "source": [
        "import tensorflow as tf\n",
        "import numpy as np\n",
        "import pandas as pd\n",
        "import pickle\n",
        "import json\n",
        "import matplotlib.pyplot as plt\n",
        "import time\n",
        "import gc"
      ]
    },
    {
      "cell_type": "markdown",
      "metadata": {
        "id": "cBAuhLf02fj6"
      },
      "source": [
        "# Defining models structures"
      ]
    },
    {
      "cell_type": "code",
      "execution_count": null,
      "metadata": {
        "id": "dVX75Miq2fj6"
      },
      "outputs": [],
      "source": [
        "def create_rnn_model(input_dim, units, activation = 'tanh', output_dim=2, l1=0, l2=0):\n",
        "    inputs = tf.keras.Input(name='inputs', shape=(None, input_dim))\n",
        "    x = tf.keras.layers.SimpleRNN(units, activation=activation,\n",
        "                                  return_sequences=True, name='rnn',\n",
        "                                  kernel_regularizer=tf.keras.regularizers.l1_l2(l1=l1, l2=l2))(inputs)\n",
        "    outputs = tf.keras.layers.Dense(output_dim, activation=tf.keras.activations.linear, name='out',\n",
        "                                   kernel_regularizer=tf.keras.regularizers.l1_l2(l1=l1, l2=l2))(x)\n",
        "    model = tf.keras.Model(inputs=inputs, outputs=outputs, name='rnn_'+str(units))\n",
        "    model.output_length = lambda x: x\n",
        "    return model"
      ]
    },
    {
      "cell_type": "code",
      "execution_count": null,
      "metadata": {
        "id": "WMU6kWDt2fj7"
      },
      "outputs": [],
      "source": [
        "all_model_units = [32,64,128]"
      ]
    },
    {
      "cell_type": "markdown",
      "metadata": {
        "id": "V5yLNiIF2fj7"
      },
      "source": [
        "# Import data"
      ]
    },
    {
      "cell_type": "code",
      "execution_count": null,
      "metadata": {
        "id": "Z2SXm1z72fj8"
      },
      "outputs": [],
      "source": [
        "datasets = []\n",
        "for id in [12,13,18,22,23,41,52,81,88,91,92,116,117]:\n",
        "    name = \"jag\"+str(id)+\"_rnn.csv\"\n",
        "    chunk = pd.read_csv(\"/content/drive/MyDrive/Trabalho de Formatura/00 - Animal Movement/animal-movement-model/data/rnn_jaguar_data/\"+name, sep = \",\", decimal = \".\", chunksize = 10000)\n",
        "    data = pd.concat(chunk, ignore_index = True)\n",
        "    del chunk\n",
        "    datasets.append(\n",
        "        data\n",
        "    )"
      ]
    },
    {
      "cell_type": "markdown",
      "metadata": {
        "id": "vxE8Zxh72fj-"
      },
      "source": [
        "# Defining training and testing sets"
      ]
    },
    {
      "cell_type": "code",
      "execution_count": null,
      "metadata": {
        "id": "g6FaM3Nm2fj-"
      },
      "outputs": [],
      "source": [
        "# Datasets for validation on not seen jaguars\n",
        "out_of_sample_jags = [datasets[4], datasets[6], datasets[9], datasets[10]]"
      ]
    },
    {
      "cell_type": "code",
      "execution_count": null,
      "metadata": {
        "scrolled": true,
        "colab": {
          "base_uri": "https://localhost:8080/"
        },
        "id": "B3AZOHhs2fj_",
        "outputId": "fdb015c4-7855-4f45-903c-6d5d1ce7fef6"
      },
      "outputs": [
        {
          "output_type": "stream",
          "name": "stdout",
          "text": [
            "\n"
          ]
        }
      ],
      "source": [
        "datasets.pop(4)\n",
        "datasets.pop(6-1)\n",
        "datasets.pop(9-2)\n",
        "datasets.pop(10-3)\n",
        "print()"
      ]
    },
    {
      "cell_type": "code",
      "source": [
        "139 + 147 + 13 + 21"
      ],
      "metadata": {
        "colab": {
          "base_uri": "https://localhost:8080/"
        },
        "id": "-No755ndHVkn",
        "outputId": "9d46f5e3-4e91-447b-8fd2-f2cabb13c3cc"
      },
      "execution_count": null,
      "outputs": [
        {
          "output_type": "execute_result",
          "data": {
            "text/plain": [
              "320"
            ]
          },
          "metadata": {},
          "execution_count": 8
        }
      ]
    },
    {
      "cell_type": "code",
      "source": [
        "print(len(out_of_sample_jags[0]))\n",
        "print(len(out_of_sample_jags[1]))\n",
        "print(len(out_of_sample_jags[2]))\n",
        "print(len(out_of_sample_jags[3]))"
      ],
      "metadata": {
        "colab": {
          "base_uri": "https://localhost:8080/"
        },
        "id": "dntJEwArGhn1",
        "outputId": "ce640e11-db04-485b-d2b0-28f835a2209d"
      },
      "execution_count": null,
      "outputs": [
        {
          "output_type": "stream",
          "name": "stdout",
          "text": [
            "139\n",
            "147\n",
            "13\n",
            "21\n"
          ]
        }
      ]
    },
    {
      "cell_type": "code",
      "execution_count": null,
      "metadata": {
        "id": "47IlQsfy2fkA"
      },
      "outputs": [],
      "source": [
        "# Defining train and test sets for seen jaguars\n",
        "all_test_sets =  []\n",
        "all_train_sets = []\n",
        "for dataset in datasets:\n",
        "    all_test_sets.append(\n",
        "    dataset.tail(int(np.round(0.2 * len(dataset),0)))\n",
        "    )\n",
        "    all_train_sets.append(\n",
        "    dataset.head(int(np.round(0.8 * len(dataset),0)))\n",
        "    )"
      ]
    },
    {
      "cell_type": "code",
      "source": [
        "sum_ = 0\n",
        "for i in range(len(all_test_sets)):\n",
        "  sum_ += len(all_test_sets[i])\n",
        "sum_"
      ],
      "metadata": {
        "colab": {
          "base_uri": "https://localhost:8080/"
        },
        "id": "lzw3RMohH6SR",
        "outputId": "02cbd1f8-5db2-4866-d487-ad332393f555"
      },
      "execution_count": null,
      "outputs": [
        {
          "output_type": "execute_result",
          "data": {
            "text/plain": [
              "1879"
            ]
          },
          "metadata": {},
          "execution_count": 11
        }
      ]
    },
    {
      "cell_type": "code",
      "execution_count": null,
      "metadata": {
        "scrolled": true,
        "id": "kAbgr0Ue2fkC"
      },
      "outputs": [],
      "source": [
        "del datasets, dataset, data, name, id"
      ]
    },
    {
      "cell_type": "code",
      "execution_count": null,
      "metadata": {
        "colab": {
          "base_uri": "https://localhost:8080/"
        },
        "id": "zesw8Bd22fkC",
        "outputId": "af8a52f2-d896-438a-a9e3-fe7ac3084bd6"
      },
      "outputs": [
        {
          "output_type": "execute_result",
          "data": {
            "text/plain": [
              "100"
            ]
          },
          "metadata": {},
          "execution_count": 13
        }
      ],
      "source": [
        "gc.collect() "
      ]
    },
    {
      "cell_type": "markdown",
      "metadata": {
        "id": "2qYBEwa52fkC"
      },
      "source": [
        "# Prepare data for training and testing"
      ]
    },
    {
      "cell_type": "code",
      "execution_count": null,
      "metadata": {
        "id": "fMTAem-e2fkD"
      },
      "outputs": [],
      "source": [
        "x_train = []\n",
        "x_test = []\n",
        "y_train = []\n",
        "y_test = []\n",
        "\n",
        "x_test_out_jags = []\n",
        "y_test_out_jags = []\n",
        "\n",
        "for x in all_train_sets:\n",
        "    y = x.filter(['v_suggested_x', 'v_suggested_y'])\n",
        "    x.drop(['v_jaguar_ID', 'v_step_Num', 'v_suggested_x', 'v_suggested_y'],inplace=True,axis=1)\n",
        "    \n",
        "    y = tf.convert_to_tensor(y.to_numpy().reshape(1, len(x), 2))\n",
        "    x = tf.convert_to_tensor(x.to_numpy().reshape(1, len(x), 6234))\n",
        "    \n",
        "    x_train.append(x)\n",
        "    y_train.append(y)\n",
        "    \n",
        "for x in all_test_sets:\n",
        "    y = x.filter(['v_suggested_x', 'v_suggested_y'])\n",
        "    x.drop(['v_jaguar_ID', 'v_step_Num', 'v_suggested_x', 'v_suggested_y'],inplace=True,axis=1)\n",
        "    \n",
        "    y = tf.convert_to_tensor(y.to_numpy().reshape(1, len(x), 2))\n",
        "    x = tf.convert_to_tensor(x.to_numpy().reshape(1, len(x), 6234))\n",
        "    \n",
        "    x_test.append(x)\n",
        "    y_test.append(y)\n",
        "\n",
        "for x in out_of_sample_jags:\n",
        "    y = x.filter(['v_suggested_x', 'v_suggested_y'])\n",
        "    x.drop(['v_jaguar_ID', 'v_step_Num', 'v_suggested_x', 'v_suggested_y'],inplace=True,axis=1)\n",
        "    \n",
        "    y = tf.convert_to_tensor(y.to_numpy().reshape(1, len(x), 2))\n",
        "    x = tf.convert_to_tensor(x.to_numpy().reshape(1, len(x), 6234))\n",
        "    \n",
        "    x_test_out_jags.append(x)\n",
        "    y_test_out_jags.append(y)\n",
        "    \n"
      ]
    },
    {
      "cell_type": "code",
      "execution_count": null,
      "metadata": {
        "id": "oE06eAgd2fkD"
      },
      "outputs": [],
      "source": [
        "del x,y"
      ]
    },
    {
      "cell_type": "code",
      "execution_count": null,
      "metadata": {
        "colab": {
          "base_uri": "https://localhost:8080/"
        },
        "id": "rz7aNIhB2fkE",
        "outputId": "dc6521f2-6754-4f41-ac63-5098dcfa77b7"
      },
      "outputs": [
        {
          "output_type": "execute_result",
          "data": {
            "text/plain": [
              "103"
            ]
          },
          "metadata": {},
          "execution_count": 16
        }
      ],
      "source": [
        "gc.collect()"
      ]
    },
    {
      "cell_type": "markdown",
      "metadata": {
        "id": "jyQsp3HS2fkE"
      },
      "source": [
        "# Defining training and testing procedures and logging"
      ]
    },
    {
      "cell_type": "code",
      "execution_count": null,
      "metadata": {
        "colab": {
          "base_uri": "https://localhost:8080/"
        },
        "id": "_BQk-0T62fkF",
        "outputId": "19a47ad3-c80e-4b76-fa4d-53fecef15da6"
      },
      "outputs": [
        {
          "output_type": "stream",
          "name": "stdout",
          "text": [
            "\n",
            "============================================\n",
            "\n",
            "0-th parameter configuration:\n",
            "\n",
            "Learning Rate: 1e-05\n",
            "L1: 0.005\n",
            "L2: 1e-06\n",
            "\n",
            "\n",
            "    Model: rnn_64\n",
            "Epoch:          1\n",
            "Epoch:          2\n",
            "Epoch:          3\n",
            "Epoch:          4\n",
            "Epoch:          5\n",
            "Epoch:          6\n",
            "Epoch:          7\n",
            "Epoch:          8\n",
            "Epoch:          9\n",
            "Epoch:         10\n",
            "Epoch:         11\n",
            "Epoch:         12\n",
            "Epoch:         13\n",
            "Epoch:         14\n",
            "Epoch:         15\n",
            "Epoch:         16\n",
            "Epoch:         17\n",
            "Epoch:         18\n",
            "Epoch:         19\n",
            "Epoch:         20\n",
            "Epoch:         21\n",
            "Epoch:         22\n",
            "Epoch:         23\n",
            "Epoch:         24\n",
            "Epoch:         25\n",
            "Epoch:         26\n",
            "Epoch:         27\n",
            "Epoch:         28\n",
            "Epoch:         29\n",
            "Epoch:         30\n",
            "Epoch:         31\n",
            "Epoch:         32\n",
            "Epoch:         33\n",
            "Epoch:         34\n",
            "Epoch:         35\n",
            "Epoch:         36\n",
            "Epoch:         37\n",
            "Epoch:         38\n",
            "Epoch:         39\n",
            "Epoch:         40\n",
            "Epoch:         41\n",
            "Epoch:         42\n",
            "Epoch:         43\n",
            "Epoch:         44\n",
            "Epoch:         45\n",
            "Epoch:         46\n",
            "Epoch:         47\n",
            "Epoch:         48\n",
            "Epoch:         49\n",
            "Epoch:         50\n",
            "Epoch:         51\n",
            "Epoch:         52\n",
            "Epoch:         53\n",
            "Epoch:         54\n",
            "Epoch:         55\n",
            "Epoch:         56\n",
            "Epoch:         57\n",
            "Epoch:         58\n",
            "Epoch:         59\n",
            "Epoch:         60\n",
            "Epoch:         61\n",
            "Epoch:         62\n",
            "Epoch:         63\n",
            "Epoch:         64\n",
            "Epoch:         65\n",
            "Epoch:         66\n",
            "Epoch:         67\n",
            "Epoch:         68\n",
            "Epoch:         69\n",
            "Epoch:         70\n",
            "Epoch:         71\n",
            "Epoch:         72\n",
            "Epoch:         73\n",
            "Epoch:         74\n",
            "Epoch:         75\n",
            "Epoch:         76\n",
            "Epoch:         77\n",
            "Epoch:         78\n",
            "Epoch:         79\n",
            "Epoch:         80\n",
            "Epoch:         81\n",
            "Epoch:         82\n",
            "Epoch:         83\n",
            "Epoch:         84\n",
            "Epoch:         85\n",
            "Epoch:         86\n",
            "Epoch:         87\n",
            "Epoch:         88\n",
            "Epoch:         89\n",
            "Epoch:         90\n",
            "Epoch:         91\n",
            "Epoch:         92\n",
            "Epoch:         93\n",
            "Epoch:         94\n",
            "Epoch:         95\n",
            "Epoch:         96\n",
            "Epoch:         97\n",
            "Epoch:         98\n",
            "Epoch:         99\n",
            "Epoch:        100\n",
            "Epoch:        101\n",
            "Epoch:        102\n",
            "Epoch:        103\n",
            "Epoch:        104\n",
            "Epoch:        105\n",
            "Epoch:        106\n",
            "Epoch:        107\n",
            "Epoch:        108\n",
            "Epoch:        109\n",
            "Epoch:        110\n",
            "Epoch:        111\n",
            "Epoch:        112\n",
            "Epoch:        113\n",
            "Epoch:        114\n",
            "Epoch:        115\n",
            "Epoch:        116\n",
            "Epoch:        117\n",
            "Epoch:        118\n",
            "Epoch:        119\n",
            "Epoch:        120\n",
            "Epoch:        121\n",
            "Epoch:        122\n",
            "Epoch:        123\n",
            "Epoch:        124\n",
            "Epoch:        125\n",
            "Epoch:        126\n",
            "Epoch:        127\n",
            "Epoch:        128\n",
            "Epoch:        129\n",
            "Epoch:        130\n",
            "Epoch:        131\n",
            "Epoch:        132\n",
            "Epoch:        133\n",
            "Epoch:        134\n",
            "Epoch:        135\n",
            "Epoch:        136\n",
            "Epoch:        137\n",
            "Epoch:        138\n",
            "Epoch:        139\n",
            "Epoch:        140\n",
            "Epoch:        141\n",
            "Epoch:        142\n",
            "Epoch:        143\n",
            "Epoch:        144\n",
            "Epoch:        145\n",
            "Epoch:        146\n",
            "Epoch:        147\n",
            "Epoch:        148\n",
            "Epoch:        149\n",
            "Epoch:        150\n",
            "Epoch:        151\n",
            "Epoch:        152\n",
            "Epoch:        153\n",
            "Epoch:        154\n",
            "Epoch:        155\n",
            "Epoch:        156\n",
            "Epoch:        157\n",
            "Epoch:        158\n",
            "Epoch:        159\n",
            "Epoch:        160\n",
            "Epoch:        161\n",
            "Epoch:        162\n",
            "Epoch:        163\n",
            "Epoch:        164\n",
            "Epoch:        165\n",
            "Epoch:        166\n",
            "Epoch:        167\n",
            "Epoch:        168\n",
            "Epoch:        169\n",
            "Epoch:        170\n",
            "Epoch:        171\n",
            "Epoch:        172\n",
            "Epoch:        173\n",
            "Epoch:        174\n",
            "Epoch:        175\n",
            "Epoch:        176\n",
            "Epoch:        177\n",
            "Epoch:        178\n",
            "Epoch:        179\n",
            "Epoch:        180\n",
            "Epoch:        181\n",
            "Epoch:        182\n",
            "Epoch:        183\n",
            "Epoch:        184\n",
            "Epoch:        185\n",
            "Epoch:        186\n",
            "Epoch:        187\n",
            "Epoch:        188\n",
            "Epoch:        189\n",
            "Epoch:        190\n",
            "Epoch:        191\n",
            "Epoch:        192\n",
            "Epoch:        193\n",
            "Epoch:        194\n",
            "Epoch:        195\n",
            "Epoch:        196\n",
            "Epoch:        197\n",
            "Epoch:        198\n",
            "Epoch:        199\n",
            "Epoch:        200\n",
            "Epoch:        201\n",
            "Epoch:        202\n",
            "Epoch:        203\n",
            "Epoch:        204\n",
            "Epoch:        205\n",
            "Epoch:        206\n",
            "Epoch:        207\n",
            "Epoch:        208\n",
            "Epoch:        209\n",
            "Epoch:        210\n",
            "Epoch:        211\n",
            "Epoch:        212\n",
            "Epoch:        213\n",
            "Epoch:        214\n",
            "Epoch:        215\n",
            "Epoch:        216\n",
            "Epoch:        217\n",
            "Epoch:        218\n",
            "Epoch:        219\n",
            "Epoch:        220\n",
            "Epoch:        221\n",
            "Epoch:        222\n",
            "Epoch:        223\n",
            "Epoch:        224\n",
            "Epoch:        225\n",
            "Epoch:        226\n",
            "Epoch:        227\n",
            "Epoch:        228\n",
            "Epoch:        229\n",
            "Epoch:        230\n",
            "Epoch:        231\n",
            "Epoch:        232\n",
            "Epoch:        233\n",
            "Epoch:        234\n",
            "Epoch:        235\n",
            "Epoch:        236\n",
            "Epoch:        237\n",
            "Epoch:        238\n",
            "Epoch:        239\n",
            "Epoch:        240\n",
            "Epoch:        241\n",
            "Epoch:        242\n",
            "Epoch:        243\n",
            "Epoch:        244\n",
            "Epoch:        245\n",
            "Epoch:        246\n",
            "Epoch:        247\n",
            "Epoch:        248\n",
            "Epoch:        249\n",
            "Epoch:        250\n",
            "Epoch:        251\n",
            "Epoch:        252\n",
            "Epoch:        253\n",
            "Epoch:        254\n",
            "Epoch:        255\n",
            "Epoch:        256\n",
            "Epoch:        257\n",
            "Epoch:        258\n",
            "Epoch:        259\n",
            "Epoch:        260\n",
            "Epoch:        261\n",
            "Epoch:        262\n",
            "Epoch:        263\n",
            "Epoch:        264\n",
            "Epoch:        265\n",
            "Epoch:        266\n",
            "Epoch:        267\n",
            "Epoch:        268\n",
            "Epoch:        269\n",
            "Epoch:        270\n",
            "Epoch:        271\n",
            "Epoch:        272\n",
            "Epoch:        273\n",
            "Epoch:        274\n",
            "Epoch:        275\n",
            "Epoch:        276\n",
            "Epoch:        277\n",
            "Epoch:        278\n",
            "Epoch:        279\n",
            "Epoch:        280\n",
            "Epoch:        281\n",
            "Epoch:        282\n",
            "Epoch:        283\n",
            "Epoch:        284\n",
            "Epoch:        285\n",
            "Epoch:        286\n",
            "Epoch:        287\n",
            "Epoch:        288\n",
            "Epoch:        289\n",
            "Epoch:        290\n",
            "Epoch:        291\n",
            "Epoch:        292\n",
            "Epoch:        293\n",
            "Epoch:        294\n",
            "Epoch:        295\n",
            "Epoch:        296\n",
            "Epoch:        297\n",
            "Epoch:        298\n",
            "Epoch:        299\n",
            "Epoch:        300\n",
            "Epoch:        301\n",
            "Epoch:        302\n",
            "Epoch:        303\n",
            "Epoch:        304\n",
            "Epoch:        305\n",
            "Epoch:        306\n",
            "Epoch:        307\n",
            "Epoch:        308\n",
            "Epoch:        309\n",
            "Epoch:        310\n",
            "Epoch:        311\n",
            "Epoch:        312\n",
            "Epoch:        313\n",
            "Epoch:        314\n",
            "Epoch:        315\n",
            "Epoch:        316\n",
            "Epoch:        317\n",
            "Epoch:        318\n",
            "Epoch:        319\n",
            "Epoch:        320\n",
            "Epoch:        321\n",
            "Epoch:        322\n",
            "Epoch:        323\n",
            "Epoch:        324\n",
            "Epoch:        325\n",
            "Epoch:        326\n",
            "Epoch:        327\n",
            "Epoch:        328\n",
            "Epoch:        329\n",
            "Epoch:        330\n",
            "Epoch:        331\n",
            "Epoch:        332\n",
            "Epoch:        333\n",
            "Epoch:        334\n",
            "Epoch:        335\n",
            "Epoch:        336\n",
            "Epoch:        337\n",
            "Epoch:        338\n",
            "Epoch:        339\n",
            "Epoch:        340\n",
            "Epoch:        341\n",
            "Epoch:        342\n",
            "Epoch:        343\n",
            "Epoch:        344\n",
            "Epoch:        345\n",
            "Epoch:        346\n",
            "Epoch:        347\n",
            "Epoch:        348\n",
            "Epoch:        349\n",
            "Epoch:        350\n",
            "Epoch:        351\n",
            "Epoch:        352\n",
            "Epoch:        353\n",
            "Epoch:        354\n",
            "Epoch:        355\n",
            "Epoch:        356\n",
            "Epoch:        357\n",
            "Epoch:        358\n",
            "Epoch:        359\n",
            "Epoch:        360\n",
            "Epoch:        361\n",
            "Epoch:        362\n",
            "Epoch:        363\n",
            "Epoch:        364\n",
            "Epoch:        365\n",
            "Epoch:        366\n",
            "Epoch:        367\n",
            "Epoch:        368\n",
            "Epoch:        369\n",
            "Epoch:        370\n",
            "Epoch:        371\n",
            "Epoch:        372\n",
            "Epoch:        373\n",
            "Epoch:        374\n",
            "Epoch:        375\n",
            "Epoch:        376\n",
            "Epoch:        377\n",
            "Epoch:        378\n",
            "Epoch:        379\n",
            "Epoch:        380\n",
            "Epoch:        381\n",
            "Epoch:        382\n",
            "Epoch:        383\n",
            "Epoch:        384\n",
            "Epoch:        385\n",
            "Epoch:        386\n",
            "Epoch:        387\n",
            "Epoch:        388\n",
            "Epoch:        389\n",
            "Epoch:        390\n",
            "Epoch:        391\n",
            "Epoch:        392\n",
            "Epoch:        393\n",
            "Epoch:        394\n",
            "Epoch:        395\n",
            "Epoch:        396\n",
            "Epoch:        397\n",
            "Epoch:        398\n",
            "Epoch:        399\n",
            "Epoch:        400\n",
            "Epoch:        401\n",
            "Epoch:        402\n",
            "Epoch:        403\n",
            "Epoch:        404\n",
            "Epoch:        405\n",
            "Epoch:        406\n",
            "Epoch:        407\n",
            "Epoch:        408\n",
            "Epoch:        409\n",
            "Epoch:        410\n",
            "Epoch:        411\n",
            "Epoch:        412\n",
            "Epoch:        413\n",
            "Epoch:        414\n",
            "Epoch:        415\n",
            "Epoch:        416\n",
            "Epoch:        417\n",
            "Epoch:        418\n",
            "Epoch:        419\n",
            "Epoch:        420\n",
            "Epoch:        421\n",
            "Epoch:        422\n",
            "Epoch:        423\n",
            "Epoch:        424\n",
            "Epoch:        425\n",
            "Epoch:        426\n",
            "Epoch:        427\n",
            "Epoch:        428\n",
            "Epoch:        429\n",
            "Epoch:        430\n",
            "Epoch:        431\n",
            "Epoch:        432\n",
            "Epoch:        433\n",
            "Epoch:        434\n",
            "Epoch:        435\n",
            "Epoch:        436\n",
            "Epoch:        437\n",
            "Epoch:        438\n",
            "Epoch:        439\n",
            "Epoch:        440\n",
            "Epoch:        441\n",
            "Epoch:        442\n",
            "Epoch:        443\n",
            "Epoch:        444\n",
            "Epoch:        445\n",
            "Epoch:        446\n",
            "Epoch:        447\n",
            "Epoch:        448\n",
            "Epoch:        449\n",
            "Epoch:        450\n",
            "Epoch:        451\n",
            "Epoch:        452\n",
            "Epoch:        453\n",
            "Epoch:        454\n",
            "Epoch:        455\n",
            "Epoch:        456\n",
            "Epoch:        457\n",
            "Epoch:        458\n",
            "Epoch:        459\n",
            "Epoch:        460\n",
            "Epoch:        461\n",
            "Epoch:        462\n",
            "Epoch:        463\n",
            "Epoch:        464\n",
            "Epoch:        465\n",
            "Epoch:        466\n",
            "Epoch:        467\n",
            "Epoch:        468\n",
            "Epoch:        469\n",
            "Epoch:        470\n",
            "Epoch:        471\n",
            "Epoch:        472\n",
            "Epoch:        473\n",
            "Epoch:        474\n",
            "Epoch:        475\n",
            "Epoch:        476\n",
            "Epoch:        477\n",
            "Epoch:        478\n",
            "Epoch:        479\n",
            "Epoch:        480\n",
            "Epoch:        481\n",
            "Epoch:        482\n",
            "Epoch:        483\n",
            "Epoch:        484\n",
            "Epoch:        485\n",
            "Epoch:        486\n",
            "Epoch:        487\n",
            "Epoch:        488\n",
            "Epoch:        489\n",
            "Epoch:        490\n",
            "Epoch:        491\n",
            "Epoch:        492\n",
            "Epoch:        493\n",
            "Epoch:        494\n",
            "Epoch:        495\n",
            "Epoch:        496\n",
            "Epoch:        497\n",
            "Epoch:        498\n",
            "Epoch:        499\n",
            "Epoch:        500\n",
            "\n",
            "training_loss = 1.4165177610185409\n",
            "testing_loss =  1.4309849474165175\n",
            "out_jag_testing_loss = 1.5711525678634644\n",
            "train_avg_distances = 0.023839793906729946\n",
            "test_avg_distances = 0.04660275915073472\n",
            "out_jag_test_avg_distances = 0.10327776658120014\n",
            "test_after_train_avg_distances = 0.04522916653541232\n",
            "\n"
          ]
        }
      ],
      "source": [
        "all_model_units = [64]\n",
        "configs = [[0.00001, 0.005, 0.000001]]\n",
        "# Test N configurations\n",
        "for n in range(0,len(configs)):\n",
        "    \n",
        "    np.random.seed(n*n*2)\n",
        "    tf.random.set_seed(n*n)\n",
        "    \n",
        "    print(\"\\n============================================\\n\\n\"+str(n)+\"-th parameter configuration:\\n\")\n",
        "    \n",
        "    #Sample hyperparameter configuration\n",
        "    learning_rate = configs[n][0]\n",
        "    l1 = configs[n][1]\n",
        "    l2 = configs[n][2]\n",
        "    \n",
        "    print(\"Learning Rate:\",learning_rate)\n",
        "    print(\"L1:\",l1)\n",
        "    print(\"L2:\",l2)\n",
        "    print()\n",
        "\n",
        "    # Test every model\n",
        "    for i in range(len(all_model_units)):\n",
        "        \n",
        "        model = create_rnn_model(input_dim = 6234, units = all_model_units[i], l1=l1, l2=l2)\n",
        "        model.compile(optimizer=tf.keras.optimizers.Adam(learning_rate=learning_rate),\n",
        "                      loss=\"mean_squared_error\")\n",
        "        \n",
        "        print(\"\\n    Model:\",model.name)\n",
        "        \n",
        "        \n",
        "        best_loss = np.inf\n",
        "        patience_counter = 0\n",
        "        history = []\n",
        "        t = time.time()\n",
        "        final_epoch = 500\n",
        "        # Minibatch of size 1 training loop, for 500 epochs, with early stopping (patience of 25):\n",
        "        for epoch in range(final_epoch):\n",
        "            print(f\"Epoch: {epoch+1 : 10}\",end='\\n')\n",
        "            for j in range(len(x_train)):\n",
        "                model.fit(x_train[j], y_train[j], epochs = 1, shuffle = False, verbose = 0)\n",
        "            \n",
        "            # Evaluate test loss every 5 epochs\n",
        "            if epoch % 5 == 0:\n",
        "                epoch_test_loss = 0\n",
        "                for j in range(len(x_test)):\n",
        "                    epoch_test_loss += model.evaluate(x_test[j],y_test[j],verbose = 0) / len(x_test)\n",
        "                history.append(epoch_test_loss)\n",
        "                if epoch_test_loss < best_loss:\n",
        "                    patience_counter = 0\n",
        "                    best_loss = epoch_test_loss\n",
        "                else:\n",
        "                    patience_counter += 1\n",
        "            if patience_counter == 25:\n",
        "                final_epoch = epoch+1\n",
        "                break\n",
        "        t = time.time()-t\n",
        "        \n",
        "\n",
        "        # Evaluate model on training and test sets\n",
        "        # Loss:\n",
        "        train_loss = 0\n",
        "        for j in range(len(x_train)):\n",
        "            train_loss += model.evaluate(x_train[j],y_train[j],verbose=0) / len(x_train)\n",
        "            \n",
        "        test_loss = 0\n",
        "        for j in range(len(x_test)):\n",
        "            test_loss += model.evaluate(x_test[j],y_test[j],verbose=0) / len(x_test)\n",
        "            \n",
        "        out_jag_test_loss = 0\n",
        "        for j in range(len(x_test_out_jags)):\n",
        "            out_jag_test_loss += model.evaluate(x_test_out_jags[j],y_test_out_jags[j],verbose=0) / len(x_test_out_jags)\n",
        "            \n",
        "        # Distances\n",
        "        train_avg_distances = 0\n",
        "        n_points = 0\n",
        "        for j in range(len(x_train)):\n",
        "            y_pred = model.call(x_train[j]).numpy()\n",
        "            y_pred = np.reshape(y_pred, [y_pred.shape[1],2])\n",
        "            diff2 = np.square(np.reshape(y_train[j].numpy(),[y_train[j].shape[1],2]) - y_pred)\n",
        "            dists = np.sqrt(np.sum(diff2, axis=1))\n",
        "            n_points += len(dists)\n",
        "            sum_dists = np.sum(diff2)\n",
        "            train_avg_distances += sum_dists\n",
        "        train_avg_distances /= n_points\n",
        "        \n",
        "        test_avg_distances = 0\n",
        "        n_points = 0\n",
        "        for j in range(len(x_test)):\n",
        "            y_pred = model.call(x_test[j]).numpy()\n",
        "            y_pred = np.reshape(y_pred, [y_pred.shape[1],2])\n",
        "            diff2 = np.square(np.reshape(y_test[j].numpy(),[y_test[j].shape[1],2]) - y_pred)\n",
        "            dists = np.sqrt(np.sum(diff2, axis=1))\n",
        "            n_points += len(dists)\n",
        "            sum_dists = np.sum(diff2)\n",
        "            test_avg_distances += sum_dists\n",
        "        test_avg_distances /= n_points\n",
        "        \n",
        "        out_jag_test_avg_distances = 0\n",
        "        n_points = 0\n",
        "        for j in range(len(x_test_out_jags)):\n",
        "            y_pred = model.call(x_test_out_jags[j]).numpy()\n",
        "            y_pred = np.reshape(y_pred, [y_pred.shape[1],2])\n",
        "            diff2 = np.square(np.reshape(y_test_out_jags[j].numpy(),[y_test_out_jags[j].shape[1],2]) - y_pred)\n",
        "            dists = np.sqrt(np.sum(diff2, axis=1))\n",
        "            n_points += len(dists)\n",
        "            sum_dists = np.sum(diff2)\n",
        "            out_jag_test_avg_distances += sum_dists\n",
        "        out_jag_test_avg_distances /= n_points\n",
        "        \n",
        "        # Considering we had all train information, and want to predict the rest (test data)\n",
        "        test_after_train_avg_distances = 0\n",
        "        n_points = 0\n",
        "        for j in range(len(x_train)):\n",
        "            x_train_test = tf.concat([x_train[j],x_test[j]],axis=1)\n",
        "            y_pred = model.call(x_train_test).numpy()\n",
        "            y_pred = np.reshape(y_pred, [y_pred.shape[1],2])[-len(x_test[j][0]):]\n",
        "            diff2 = np.square(np.reshape(y_test[j].numpy(),[y_test[j].shape[1],2]) - y_pred)\n",
        "            dists = np.sqrt(np.sum(diff2, axis=1))\n",
        "            n_points += len(dists)\n",
        "            sum_dists = np.sum(diff2)\n",
        "            test_after_train_avg_distances += sum_dists\n",
        "        test_after_train_avg_distances /= n_points\n",
        "        \n",
        "        print()\n",
        "        print(f'training_loss = {train_loss}')\n",
        "        print(f'testing_loss =  {test_loss}')\n",
        "        print(f'out_jag_testing_loss = {out_jag_test_loss}')\n",
        "        print(f'train_avg_distances = {train_avg_distances}')\n",
        "        print(f'test_avg_distances = {test_avg_distances}')\n",
        "        print(f'out_jag_test_avg_distances = {out_jag_test_avg_distances}')\n",
        "        print(f'test_after_train_avg_distances = {test_after_train_avg_distances}')\n",
        "        print()\n",
        "\n",
        "        gc.collect()"
      ]
    },
    {
      "cell_type": "code",
      "execution_count": null,
      "metadata": {
        "id": "9RFXvbiw2fkG"
      },
      "outputs": [],
      "source": [
        ""
      ]
    },
    {
      "cell_type": "code",
      "execution_count": null,
      "metadata": {
        "id": "8LSEFOiZ2fkG"
      },
      "outputs": [],
      "source": [
        ""
      ]
    },
    {
      "cell_type": "code",
      "execution_count": null,
      "metadata": {
        "id": "pvi1fdzb2fkG"
      },
      "outputs": [],
      "source": [
        ""
      ]
    },
    {
      "cell_type": "code",
      "execution_count": null,
      "metadata": {
        "id": "GlI0XVX72fkG"
      },
      "outputs": [],
      "source": [
        ""
      ]
    },
    {
      "cell_type": "code",
      "execution_count": null,
      "metadata": {
        "id": "t30nJ-Fq2fkH"
      },
      "outputs": [],
      "source": [
        ""
      ]
    },
    {
      "cell_type": "code",
      "execution_count": null,
      "metadata": {
        "id": "8NX6xauw2fkH"
      },
      "outputs": [],
      "source": [
        ""
      ]
    },
    {
      "cell_type": "code",
      "execution_count": null,
      "metadata": {
        "id": "Y70BUNtT2fkH"
      },
      "outputs": [],
      "source": [
        ""
      ]
    },
    {
      "cell_type": "code",
      "execution_count": null,
      "metadata": {
        "id": "13dpDU6z2fkH"
      },
      "outputs": [],
      "source": [
        ""
      ]
    },
    {
      "cell_type": "code",
      "execution_count": null,
      "metadata": {
        "id": "ezj-kwKL2fkH"
      },
      "outputs": [],
      "source": [
        ""
      ]
    },
    {
      "cell_type": "code",
      "execution_count": null,
      "metadata": {
        "id": "fYoa4mJA2fkH"
      },
      "outputs": [],
      "source": [
        ""
      ]
    },
    {
      "cell_type": "code",
      "execution_count": null,
      "metadata": {
        "id": "by8v9Zbf2fkH"
      },
      "outputs": [],
      "source": [
        ""
      ]
    },
    {
      "cell_type": "code",
      "execution_count": null,
      "metadata": {
        "id": "ysJVq5Cq2fkH"
      },
      "outputs": [],
      "source": [
        ""
      ]
    },
    {
      "cell_type": "code",
      "execution_count": null,
      "metadata": {
        "id": "uQTRlaIV2fkI",
        "outputId": "783608aa-de29-4583-a635-1beeef7b661b",
        "colab": {
          "base_uri": "https://localhost:8080/"
        }
      },
      "outputs": [
        {
          "output_type": "execute_result",
          "data": {
            "text/plain": [
              "<tf.Tensor: shape=(526,), dtype=float32, numpy=\n",
              "array([1.4218068, 1.5054618, 1.605441 , 1.5328518, 1.4037381, 1.5978856,\n",
              "       1.5117954, 1.5820383, 1.56118  , 1.52463  , 1.4431713, 1.2426982,\n",
              "       1.1761434, 1.2015272, 1.2221907, 1.3049716, 1.3407875, 1.426841 ,\n",
              "       1.4510871, 1.4141788, 1.4017521, 1.4513592, 1.3593823, 1.4116274,\n",
              "       1.3564912, 1.3318857, 1.36864  , 1.4410543, 1.5789876, 1.4375873,\n",
              "       1.4326508, 1.4929426, 1.5326992, 1.5580531, 1.6057152, 1.546176 ,\n",
              "       1.6264999, 1.5770718, 1.5988472, 1.5444752, 1.5579784, 1.594653 ,\n",
              "       1.5197989, 1.5749005, 1.4412822, 1.3814996, 1.4958779, 1.5999373,\n",
              "       1.5121998, 1.449547 , 1.5288191, 1.5552683, 1.6041572, 1.456596 ,\n",
              "       1.5063639, 1.4163408, 1.5402485, 1.355394 , 1.4363543, 1.4118451,\n",
              "       1.3966278, 1.4604508, 1.4193162, 1.361055 , 1.3542383, 1.2612609,\n",
              "       1.305359 , 1.3386259, 1.3342382, 1.3082978, 1.2570091, 1.3024786,\n",
              "       1.2192405, 1.1807572, 1.3462145, 1.2740604, 1.4038061, 1.4181402,\n",
              "       1.369961 , 1.4898647, 1.6078317, 1.7039434, 1.6931456, 1.763656 ,\n",
              "       1.725334 , 1.6895052, 1.6931762, 1.6657444, 1.6952775, 1.6557422,\n",
              "       1.7083017, 1.6797014, 1.6916603, 1.7253469, 1.7245492, 1.6254891,\n",
              "       1.6377505, 1.5621988, 1.5916406, 1.6123536, 1.5409981, 1.5890304,\n",
              "       1.6267246, 1.6099118, 1.612849 , 1.5319086, 1.6181128, 1.6638173,\n",
              "       1.6818675, 1.5937327, 1.591324 , 1.6430856, 1.6276978, 1.5401919,\n",
              "       1.5229462, 1.5293134, 1.4601928, 1.5290213, 1.4356267, 1.3466707,\n",
              "       1.4331287, 1.379302 , 1.4241111, 1.3777626, 1.4635533, 1.6270541,\n",
              "       1.755316 , 1.6910611, 1.7411386, 1.697144 , 1.5672624, 1.5511085,\n",
              "       1.5504061, 1.4997033, 1.4917849, 1.525283 , 1.5823365, 1.5347131,\n",
              "       1.5698358, 1.5262097, 1.575513 , 1.5683335, 1.5417951, 1.5097479,\n",
              "       1.547742 , 1.5736276, 1.5399576, 1.5763155, 1.4981266, 1.47776  ,\n",
              "       1.4887476, 1.3616282, 1.4038131, 1.3414733, 1.1929234, 1.2359773,\n",
              "       1.3190659, 1.3903584, 1.341352 , 1.144808 , 1.1837608, 1.2612389,\n",
              "       1.3009497, 1.3037483, 1.4099423, 1.3217512, 1.2892092, 1.3706105,\n",
              "       1.3570267, 1.3334056, 1.3240044, 1.3213369, 1.4156555, 1.3850588,\n",
              "       1.3213633, 1.371534 , 1.3509923, 1.3338523, 1.3479108, 1.2852172,\n",
              "       1.2741697, 1.3312653, 1.3588252, 1.2169014, 1.3669391, 1.2859411,\n",
              "       1.2903541, 1.2433554, 1.2513713, 1.2108312, 1.2523402, 1.1817862,\n",
              "       1.2640063, 1.1735021, 1.3252312, 1.206741 , 1.2865652, 1.170778 ,\n",
              "       1.2515467, 1.2627283, 1.1708018, 1.1388563, 1.0842983, 1.1704475,\n",
              "       1.1127387, 1.0932151, 1.137943 , 1.3446344, 1.3338515, 1.2890366,\n",
              "       1.2070304, 1.198154 , 1.1090689, 1.1670321, 1.3920021, 1.2555739,\n",
              "       1.2362356, 1.14256  , 1.1546446, 1.1070095, 1.2574629, 1.2976581,\n",
              "       1.4183216, 1.3469166, 0.9716246, 1.0429428, 1.0414968, 1.0656286,\n",
              "       1.0147533, 1.323255 , 1.287629 , 1.3458987, 1.3532284, 1.4443146,\n",
              "       1.4521681, 1.3181006, 1.288469 , 1.3558234, 1.3896402, 1.3175293,\n",
              "       1.4085954, 1.3864626, 1.4326257, 1.3057503, 1.4431778, 1.4483627,\n",
              "       1.4091239, 1.3268985, 1.3527789, 1.2828237, 1.1276942, 1.2583433,\n",
              "       1.2688595, 1.2979755, 1.1412467, 1.2703718, 1.3943597, 1.3528675,\n",
              "       1.4239866, 1.4396988, 1.4009258, 1.4939564, 1.3102368, 1.3000789,\n",
              "       1.3308129, 1.2994105, 1.2838515, 1.175012 , 1.1287454, 1.1654791,\n",
              "       1.2581168, 1.2596154, 1.204682 , 1.3573266, 1.2844427, 1.37144  ,\n",
              "       1.3723441, 1.2409724, 1.1358675, 1.0312005, 0.9014857, 0.8394032,\n",
              "       0.8435053, 0.7823549, 0.8455582, 1.0399718, 1.37355  , 1.5035591,\n",
              "       1.4279763, 1.4686116, 1.3528247, 1.4398414, 1.3959216, 1.4095218,\n",
              "       1.411107 , 1.6033001, 1.6443688, 1.5815918, 1.7034551, 1.6305889,\n",
              "       1.6228389, 1.5695899, 1.6192449, 1.6764315, 1.7083668, 1.6497713,\n",
              "       1.7045153, 1.6422435, 1.602794 , 1.5944234, 1.4679669, 1.3069386,\n",
              "       1.3978935, 1.3435624, 1.2453089, 1.3944529, 1.3257617, 1.4214121,\n",
              "       1.3964058, 1.3379649, 1.4073536, 1.3325973, 1.423549 , 1.4378332,\n",
              "       1.4034442, 1.4472913, 1.4605268, 1.3504721, 1.4124527, 1.2812673,\n",
              "       1.2534413, 1.3223681, 1.3530446, 1.3623174, 1.299951 , 1.2798885,\n",
              "       1.2949978, 1.2874007, 1.235696 , 1.1204973, 1.2737101, 1.1797003,\n",
              "       1.2300214, 1.21241  , 1.2594353, 1.3192785, 1.2474537, 1.3054785,\n",
              "       1.3149725, 1.3502172, 1.1551627, 1.0678366, 1.0526379, 1.1301638,\n",
              "       1.1416193, 1.160952 , 1.1789271, 1.1225032, 1.2325679, 1.1829444,\n",
              "       1.09723  , 1.4518716, 1.3701664, 1.1719   , 1.1738241, 1.0169729,\n",
              "       1.0412581, 1.1548935, 1.1294427, 1.3358123, 1.3673047, 1.4296108,\n",
              "       1.256836 , 1.2181157, 1.2259955, 1.1069362, 1.2602936, 1.2993425,\n",
              "       1.4684025, 1.2799895, 1.3501779, 1.4378568, 1.322347 , 1.4383044,\n",
              "       1.2945956, 1.4639486, 1.4247228, 1.2654759, 1.2016405, 1.2788076,\n",
              "       1.2963349, 1.2820673, 1.091218 , 1.2475332, 1.186547 , 1.3771646,\n",
              "       1.3462473, 1.2213002, 1.3221635, 1.2294751, 1.0770442, 1.0513691,\n",
              "       1.0503038, 1.070017 , 1.016265 , 1.0838937, 1.3231953, 1.3928376,\n",
              "       1.3538611, 1.2906241, 1.2578902, 1.4120902, 1.2936875, 1.3078297,\n",
              "       1.3307365, 1.2516936, 1.2707983, 1.337052 , 1.2908335, 1.3456516,\n",
              "       1.3066913, 1.3486494, 1.42757  , 1.4586595, 1.3291645, 1.3461806,\n",
              "       1.3502498, 1.2306639, 1.2367122, 1.3433648, 1.3936592, 1.4383036,\n",
              "       1.4171854, 1.4463254, 1.1395555, 1.106275 , 1.3243793, 1.3039147,\n",
              "       1.3396409, 1.2663945, 1.1440324, 1.2259129, 1.1476489, 1.1946571,\n",
              "       1.2134936, 1.3229581, 1.4098957, 1.4388268, 1.371557 , 1.6430596,\n",
              "       1.5986888, 1.6594578, 1.773543 , 1.7340431, 1.7986625, 1.7168998,\n",
              "       1.7988085, 1.7036436, 1.7630508, 1.7638699, 1.8596193, 1.7444304,\n",
              "       1.6246809, 1.6853017, 1.704484 , 1.7820789, 1.7137362, 1.7061864,\n",
              "       1.7300123, 1.7192628, 1.6534771, 1.6972843, 1.6432662, 1.6874439,\n",
              "       1.6529447, 1.6176893, 1.538019 , 1.8092262, 1.69791  , 1.836399 ,\n",
              "       1.7708972, 1.6399373, 1.4588172, 1.3259382, 1.1922988, 1.2248188,\n",
              "       1.1665492, 1.1675469, 1.5275296, 1.5469528, 1.5563542, 1.6067383,\n",
              "       1.5969131, 1.6128503, 1.6176239, 1.6167201, 1.5771536, 1.6009253,\n",
              "       1.6122456, 1.6595376, 1.6835847, 1.7891473, 1.6822058, 1.7551216,\n",
              "       1.7434055, 1.7654961, 1.7323589, 1.6828038, 1.6418118, 1.7101473,\n",
              "       1.594457 , 1.710756 , 1.7320818, 1.5931454, 1.635665 , 1.6981682,\n",
              "       1.6575323, 1.6707109, 1.7208399, 1.6818383, 1.6805712, 1.5530359,\n",
              "       1.6086092, 1.6923264, 1.6023566, 1.631545 ], dtype=float32)>"
            ]
          },
          "metadata": {},
          "execution_count": 27
        }
      ],
      "source": [
        "x_out_train"
      ]
    },
    {
      "cell_type": "code",
      "source": [
        "y_train[0]"
      ],
      "metadata": {
        "colab": {
          "base_uri": "https://localhost:8080/"
        },
        "id": "6QDA8892R1Hw",
        "outputId": "d511f5f5-8cb0-47f8-cea0-ba816c80e368"
      },
      "execution_count": null,
      "outputs": [
        {
          "output_type": "execute_result",
          "data": {
            "text/plain": [
              "<tf.Tensor: shape=(1, 526, 2), dtype=float64, numpy=\n",
              "array([[[ 1.50833817, -0.77877934],\n",
              "        [ 1.51226005, -0.76719881],\n",
              "        [ 1.51229469, -0.78703055],\n",
              "        ...,\n",
              "        [ 1.59260186, -4.73764361],\n",
              "        [ 1.59260186, -4.73802058],\n",
              "        [ 1.63035823, -4.64132791]]])>"
            ]
          },
          "metadata": {},
          "execution_count": 48
        }
      ]
    },
    {
      "cell_type": "code",
      "execution_count": null,
      "metadata": {
        "id": "YOtYXHn-2fkI",
        "outputId": "cc7da392-f232-43d6-c88c-fbf9128af11b",
        "colab": {
          "base_uri": "https://localhost:8080/"
        }
      },
      "outputs": [
        {
          "output_type": "execute_result",
          "data": {
            "text/plain": [
              "<tf.Tensor: shape=(526,), dtype=float32, numpy=\n",
              "array([-1.4741875 , -0.9614239 , -0.9656934 , -0.88133085, -0.9235371 ,\n",
              "       -0.7807602 , -0.7925279 , -0.8158488 , -0.8649313 , -0.86503804,\n",
              "       -1.0614457 , -1.4792193 , -1.5454142 , -1.4166092 , -1.4547696 ,\n",
              "       -1.50334   , -1.4554541 , -1.7817222 , -1.6817508 , -1.7079004 ,\n",
              "       -1.8788306 , -1.7478718 , -2.1342688 , -2.288458  , -2.5779061 ,\n",
              "       -2.4995434 , -2.5427012 , -2.3957117 , -2.2884715 , -1.9704305 ,\n",
              "       -1.8527533 , -1.7701293 , -1.781515  , -1.8401753 , -1.7932543 ,\n",
              "       -1.8522397 , -1.8918903 , -1.8243794 , -1.8833238 , -1.8419743 ,\n",
              "       -1.912228  , -1.78641   , -1.8825332 , -1.879376  , -1.7715946 ,\n",
              "       -1.9414018 , -1.8820887 , -1.9531683 , -1.9317559 , -1.8520242 ,\n",
              "       -1.7162578 , -1.6126602 , -1.5111743 , -1.5619428 , -1.4671001 ,\n",
              "       -1.5718617 , -1.7826227 , -1.7263016 , -1.888268  , -1.7451025 ,\n",
              "       -1.8832046 , -1.7690332 , -1.8119909 , -1.726241  , -1.6750268 ,\n",
              "       -1.6117644 , -1.6104811 , -1.671846  , -1.563346  , -1.9102463 ,\n",
              "       -1.6735301 , -1.6586968 , -1.7488462 , -1.6111253 , -1.6977376 ,\n",
              "       -1.6135154 , -1.5505534 , -1.5544242 , -1.5481538 , -1.4388791 ,\n",
              "       -1.5754791 , -1.350434  , -1.3855945 , -1.4842416 , -1.411796  ,\n",
              "       -1.361003  , -1.3160299 , -1.382365  , -1.3873649 , -1.4035488 ,\n",
              "       -1.3568635 , -1.3452092 , -1.4038589 , -1.3627402 , -1.2733737 ,\n",
              "       -1.0611274 , -1.0317494 , -1.1125518 , -1.0597146 , -0.96179545,\n",
              "       -0.9893985 , -0.988376  , -1.1180276 , -1.1117184 , -1.1066694 ,\n",
              "       -1.0495311 , -1.080674  , -1.0489792 , -1.0700986 , -1.1266385 ,\n",
              "       -1.0310401 , -1.1342312 , -0.9081188 , -0.8392101 , -1.1088629 ,\n",
              "       -1.198755  , -1.2103225 , -1.2997682 , -1.2761519 , -1.1904566 ,\n",
              "       -1.1548681 , -1.180964  , -1.2422413 , -1.1794189 , -1.1393627 ,\n",
              "       -1.1837283 , -1.3269014 , -1.2808841 , -1.3439153 , -1.5048902 ,\n",
              "       -1.5117487 , -1.4651946 , -1.5566175 , -1.5375606 , -1.4777718 ,\n",
              "       -1.5538672 , -1.487614  , -1.5078387 , -1.4525596 , -1.502017  ,\n",
              "       -1.5210627 , -1.5152928 , -1.5167701 , -1.5288085 , -1.522077  ,\n",
              "       -1.4991235 , -1.5405381 , -1.496654  , -1.5201634 , -1.4381623 ,\n",
              "       -1.42301   , -1.3421775 , -1.3590242 , -1.3551902 , -1.265776  ,\n",
              "       -1.3471566 , -1.2898631 , -1.3506609 , -1.3108419 , -1.4014319 ,\n",
              "       -1.6251765 , -1.6382304 , -1.5803622 , -1.6633846 , -1.5986263 ,\n",
              "       -1.6300714 , -1.6177374 , -1.7456434 , -1.6444792 , -1.6234733 ,\n",
              "       -1.7059618 , -1.6889721 , -1.5899065 , -1.678975  , -1.5632571 ,\n",
              "       -1.5610704 , -1.8173639 , -1.7167169 , -1.6540889 , -1.6174626 ,\n",
              "       -1.5223252 , -1.6573195 , -1.7658783 , -1.6970593 , -1.6360343 ,\n",
              "       -1.4175621 , -1.3933707 , -1.4229572 , -1.3210275 , -1.4487227 ,\n",
              "       -1.3089657 , -1.5043541 , -1.3925527 , -1.3476523 , -1.357542  ,\n",
              "       -1.3620864 , -1.4453232 , -1.4559652 , -1.3958796 , -1.484739  ,\n",
              "       -1.5163814 , -1.5182427 , -1.5444121 , -1.6844568 , -1.5778888 ,\n",
              "       -1.6047196 , -1.715269  , -1.951533  , -2.0159247 , -1.9866163 ,\n",
              "       -1.98024   , -2.040252  , -1.9459565 , -2.0742872 , -2.3644466 ,\n",
              "       -2.5717    , -2.5914404 , -2.6221864 , -2.6323426 , -2.7016366 ,\n",
              "       -2.6148303 , -2.7113214 , -2.4971411 , -2.5446742 , -2.806613  ,\n",
              "       -3.1756437 , -2.9751046 , -3.0125582 , -2.886606  , -2.9551055 ,\n",
              "       -2.7407072 , -2.6902468 , -2.4944851 , -2.4475029 , -2.4567983 ,\n",
              "       -2.2676153 , -2.1499426 , -2.2390678 , -2.0769744 , -2.1251223 ,\n",
              "       -1.9901468 , -1.8847513 , -1.7369859 , -1.8296281 , -1.740526  ,\n",
              "       -1.7726895 , -1.7361317 , -1.8017485 , -1.6897646 , -1.692342  ,\n",
              "       -1.7322372 , -1.6630708 , -1.6741058 , -1.6078002 , -1.6659235 ,\n",
              "       -1.7681195 , -1.8872801 , -1.7353915 , -1.769521  , -1.7429866 ,\n",
              "       -1.7637557 , -1.7513844 , -1.7906048 , -1.7447709 , -1.6280034 ,\n",
              "       -1.6479331 , -1.7465243 , -1.6829344 , -1.6354314 , -1.4275153 ,\n",
              "       -1.5271387 , -1.4230245 , -1.3675572 , -1.359705  , -1.2154287 ,\n",
              "       -1.3337433 , -1.3577842 , -1.3121656 , -1.4383506 , -1.2870537 ,\n",
              "       -1.2542259 , -1.1266121 , -1.1582767 , -1.1331974 , -0.903279  ,\n",
              "       -0.9963786 , -1.0474517 , -0.9896047 , -1.0484598 , -1.386402  ,\n",
              "       -1.4804322 , -1.3383536 , -1.4325869 , -1.3444828 , -1.3380132 ,\n",
              "       -1.0929469 , -1.0837774 , -1.0926815 , -1.0481836 , -1.08204   ,\n",
              "       -1.0452014 , -1.0879477 , -1.1246388 , -1.0941765 , -1.0954273 ,\n",
              "       -1.1043783 , -1.0888834 , -1.0990026 , -1.0379484 , -1.1635036 ,\n",
              "       -1.7653743 , -1.820978  , -1.7756573 , -1.9329292 , -1.8218321 ,\n",
              "       -1.8637873 , -1.9793762 , -1.807171  , -1.7817808 , -1.9499456 ,\n",
              "       -1.9410312 , -1.8583559 , -1.6944956 , -1.8321887 , -1.8417013 ,\n",
              "       -1.9968654 , -1.748899  , -1.8494676 , -1.9285034 , -1.8365611 ,\n",
              "       -1.8036093 , -1.8870937 , -1.8498577 , -1.8555726 , -1.9214253 ,\n",
              "       -1.8607776 , -1.8184468 , -1.757286  , -1.6708049 , -1.7001039 ,\n",
              "       -1.6763971 , -1.6954535 , -1.6388639 , -1.7108148 , -1.6926526 ,\n",
              "       -1.765195  , -1.825401  , -1.8264123 , -1.8429352 , -2.0598557 ,\n",
              "       -2.0417197 , -1.9451774 , -1.9401928 , -2.0027537 , -1.9836837 ,\n",
              "       -1.9378537 , -1.9952093 , -2.015885  , -2.0155756 , -1.986514  ,\n",
              "       -1.9773115 , -2.3226154 , -2.3743372 , -2.6476636 , -2.766909  ,\n",
              "       -2.872031  , -2.8384583 , -2.7181394 , -2.7616746 , -2.3724442 ,\n",
              "       -2.2863848 , -2.289862  , -2.1233492 , -1.976421  , -2.0328324 ,\n",
              "       -2.0395722 , -1.9941462 , -2.044542  , -2.010369  , -1.8297424 ,\n",
              "       -1.8213234 , -1.7462264 , -1.8707453 , -1.8507463 , -1.7797602 ,\n",
              "       -1.7897092 , -1.9545258 , -2.0480201 , -2.0315301 , -2.2693667 ,\n",
              "       -2.3057268 , -2.1265407 , -2.0008643 , -2.065211  , -2.0522208 ,\n",
              "       -2.068048  , -2.0066628 , -2.0291274 , -2.0278914 , -2.0125844 ,\n",
              "       -1.8907915 , -1.7657192 , -1.6357676 , -1.6213198 , -1.6435934 ,\n",
              "       -1.5835077 , -1.8256663 , -1.9853292 , -1.9157888 , -1.9800543 ,\n",
              "       -1.9232001 , -2.0570464 , -2.0606267 , -2.2038105 , -2.5601432 ,\n",
              "       -2.623193  , -2.5368223 , -2.6547291 , -2.5961587 , -2.5149863 ,\n",
              "       -2.4119499 , -2.5142543 , -2.6067264 , -2.444348  , -2.3515995 ,\n",
              "       -2.3579018 , -2.2722862 , -2.0243294 , -2.0223396 , -1.9774843 ,\n",
              "       -1.8753082 , -1.8781917 , -1.9568812 , -1.9152642 , -1.8824126 ,\n",
              "       -1.9139019 , -1.9776515 , -1.841556  , -2.1850212 , -2.1969688 ,\n",
              "       -2.5469787 , -2.6496913 , -2.7383616 , -2.6095052 , -2.9468424 ,\n",
              "       -3.421386  , -3.7718003 , -3.8414056 , -3.963452  , -4.0857906 ,\n",
              "       -4.0325923 , -3.8950162 , -3.721058  , -3.7555013 , -3.737181  ,\n",
              "       -3.5292752 , -3.4728248 , -3.447637  , -3.2335525 , -3.2238002 ,\n",
              "       -3.273196  , -3.4918609 , -3.7992105 , -3.7574618 , -3.5481665 ,\n",
              "       -3.5592587 , -3.4933584 , -3.6365592 , -3.82387   , -3.7675574 ,\n",
              "       -3.6999702 , -3.7024367 , -3.74154   , -3.4526339 , -3.4262803 ,\n",
              "       -3.3692482 , -3.247332  , -3.153189  , -3.1727371 , -3.1810834 ,\n",
              "       -3.165005  , -3.176546  , -3.2186115 , -3.2035987 , -3.2703178 ,\n",
              "       -3.359368  , -3.3382328 , -3.5784779 , -4.2838707 , -4.5529537 ,\n",
              "       -4.4071393 , -4.489652  , -4.5155764 , -4.444365  , -4.5268197 ,\n",
              "       -4.4028654 , -4.4157233 , -4.4510107 , -4.4327984 , -4.4672837 ,\n",
              "       -4.5721493 , -5.109439  , -5.128455  , -5.231153  , -5.2246456 ,\n",
              "       -5.172249  , -5.094124  , -5.054021  , -4.9708056 , -4.8778663 ,\n",
              "       -4.6572924 , -4.55056   , -4.2886686 , -4.437513  , -4.506918  ,\n",
              "       -4.4393387 , -4.5245743 , -4.4842463 , -4.5301614 , -4.5448046 ,\n",
              "       -4.608009  , -4.544809  , -4.5270348 , -4.516964  , -4.6328645 ,\n",
              "       -4.6040497 ], dtype=float32)>"
            ]
          },
          "metadata": {},
          "execution_count": 28
        }
      ],
      "source": [
        "y_out_train"
      ]
    },
    {
      "cell_type": "code",
      "execution_count": null,
      "metadata": {
        "id": "q8rv6Tkg2fkI",
        "outputId": "3611bbc0-3105-415c-edcb-47dbbc491c53",
        "colab": {
          "base_uri": "https://localhost:8080/",
          "height": 279
        }
      },
      "outputs": [
        {
          "output_type": "display_data",
          "data": {
            "image/png": "[encoded data removed]",
            "text/plain": [
              "<Figure size 432x288 with 1 Axes>"
            ]
          },
          "metadata": {
            "needs_background": "light"
          }
        }
      ],
      "source": [
        "n = 1\n",
        "x_out_train,y_out_train = model.call(x_train[n])[0,:,0], model.call(x_train[n])[0,:,1]\n",
        "initial = 25-1\n",
        "final = 36-1\n",
        "x = x_out_train.numpy()[initial+1:final]\n",
        "y = y_out_train.numpy()[initial+1:final]\n",
        "x_t = y_train[n][0,:,0]\n",
        "y_t = y_train[n][0,:,1]\n",
        "x_t = x_t[initial:final-1]\n",
        "y_t = y_t[initial:final-1]\n",
        "for i in range(len(x)):\n",
        "  plt.plot(np.array([x_t[i],x[i]]), np.array([y_t[i],y[i]]), linestyle='--', color = 'black', alpha = 0.75)\n",
        "  plt.scatter(x[i], y[i], color = 'black', marker = 'x')\n",
        "plt.quiver(x_t[:-1], y_t[:-1], x_t[1:]-x_t[:-1], y_t[1:]-y_t[:-1], scale_units='xy', angles='xy', scale=1,\n",
        "           color = 'black', width = 0.005, alpha = 1)\n",
        "plt.xlabel('x')\n",
        "plt.ylabel('y')\n",
        "plt.savefig('train_route_50_jag0',dpi = 300)\n",
        "plt.show()"
      ]
    },
    {
      "cell_type": "code",
      "source": [
        "n = 4\n",
        "x_out_test,y_out_test = model.call(x_test[n])[0,:,0], model.call(x_test[n])[0,:,1]\n",
        "initial = 25-1\n",
        "final = 36-1\n",
        "x = x_out_test.numpy()[initial+1:final]\n",
        "y = y_out_test.numpy()[initial+1:final]\n",
        "x_t = y_test[n][0,:,0]\n",
        "y_t = y_test[n][0,:,1]\n",
        "x_t = x_t[initial:final]\n",
        "y_t = y_t[initial:final]\n",
        "for i in range(len(x)):\n",
        "  plt.plot(np.array([x_t[i],x[i]]), np.array([y_t[i],y[i]]), linestyle='--', color = 'black', alpha = 0.75)\n",
        "  plt.scatter(x[i], y[i], color = 'black', marker = 'x')\n",
        "plt.quiver(x_t[:-1], y_t[:-1], x_t[1:]-x_t[:-1], y_t[1:]-y_t[:-1], scale_units='xy', angles='xy', scale=1,\n",
        "           color = 'black', width = 0.005, alpha = 1)\n",
        "plt.xlabel('x')\n",
        "plt.ylabel('y')\n",
        "plt.savefig('test_route_jag0',dpi = 300)\n",
        "plt.show()"
      ],
      "metadata": {
        "colab": {
          "base_uri": "https://localhost:8080/",
          "height": 279
        },
        "id": "iHvYXBbQb4WS",
        "outputId": "16c985a3-0d5e-4370-e44d-79dd531c0f01"
      },
      "execution_count": null,
      "outputs": [
        {
          "output_type": "display_data",
          "data": {
            "image/png": "[encoded data removed]",
            "text/plain": [
              "<Figure size 432x288 with 1 Axes>"
            ]
          },
          "metadata": {
            "needs_background": "light"
          }
        }
      ]
    },
    {
      "cell_type": "code",
      "source": [
        "n = 0\n",
        "x_out_test_out,y_out_test_out = model.call(x_test_out_jags[n])[0,:,0], model.call(x_test_out_jags[n])[0,:,1]\n",
        "initial = 20\n",
        "final = 30\n",
        "x = x_out_test_out.numpy()[initial+1:final]\n",
        "y = y_out_test_out.numpy()[initial+1:final]\n",
        "x_t = y_test_out_jags[n][0,:,0]\n",
        "y_t = y_test_out_jags[n][0,:,1]\n",
        "x_t = x_t[initial:final]\n",
        "y_t = y_t[initial:final]\n",
        "for i in range(len(x)):\n",
        "  plt.plot(np.array([x_t[i],x[i]]), np.array([y_t[i],y[i]]), linestyle='--', color = 'black', alpha = 0.75)\n",
        "  plt.scatter(x[i], y[i], color = 'black', marker = 'x')\n",
        "plt.quiver(x_t[:-1], y_t[:-1], x_t[1:]-x_t[:-1], y_t[1:]-y_t[:-1], scale_units='xy', angles='xy', scale=1,\n",
        "           color = 'black', width = 0.005, alpha = 1)\n",
        "plt.xlabel('x')\n",
        "plt.ylabel('y')\n",
        "plt.savefig('train_route_jag_out',dpi = 300)\n",
        "plt.show()"
      ],
      "metadata": {
        "colab": {
          "base_uri": "https://localhost:8080/",
          "height": 279
        },
        "id": "C2xNT01Zemwn",
        "outputId": "9bfd4a6d-143b-40e1-9af3-fbb7cbe3d352"
      },
      "execution_count": null,
      "outputs": [
        {
          "output_type": "display_data",
          "data": {
            "image/png": "[encoded data removed]",
            "text/plain": [
              "<Figure size 432x288 with 1 Axes>"
            ]
          },
          "metadata": {
            "needs_background": "light"
          }
        }
      ]
    }
  ],
  "metadata": {
    "kernelspec": {
      "display_name": "Python 3",
      "language": "python",
      "name": "python3"
    },
    "language_info": {
      "codemirror_mode": {
        "name": "ipython",
        "version": 3
      },
      "file_extension": ".py",
      "mimetype": "text/x-python",
      "name": "python",
      "nbconvert_exporter": "python",
      "pygments_lexer": "ipython3",
      "version": "3.8.1"
    },
    "varInspector": {
      "cols": {
        "lenName": 16,
        "lenType": 16,
        "lenVar": 40
      },
      "kernels_config": {
        "python": {
          "delete_cmd_postfix": "",
          "delete_cmd_prefix": "del ",
          "library": "var_list.py",
          "varRefreshCmd": "print(var_dic_list())"
        },
        "r": {
          "delete_cmd_postfix": ") ",
          "delete_cmd_prefix": "rm(",
          "library": "var_list.r",
          "varRefreshCmd": "cat(var_dic_list()) "
        }
      },
      "oldHeight": 623,
      "position": {
        "height": "581px",
        "left": "1523px",
        "right": "20px",
        "top": "113px",
        "width": "360px"
      },
      "types_to_exclude": [
        "module",
        "function",
        "builtin_function_or_method",
        "instance",
        "_Feature"
      ],
      "varInspector_section_display": "block",
      "window_display": true
    },
    "colab": {
      "name": "rnn_graphs.ipynb",
      "provenance": [],
      "collapsed_sections": [],
      "include_colab_link": true
    },
    "accelerator": "TPU"
  },
  "nbformat": 4,
  "nbformat_minor": 0
}