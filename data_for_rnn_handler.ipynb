{
 "cells": [
  {
   "cell_type": "markdown",
   "metadata": {},
   "source": [
    "# 0 - Importing necessary packages/libraries/APIs"
   ]
  },
  {
   "cell_type": "code",
   "execution_count": 2,
   "metadata": {},
   "outputs": [],
   "source": [
    "import tensorflow as tf\n",
    "from tensorflow.keras.utils import to_categorical\n",
    "import numpy as np\n",
    "import pandas as pd\n",
    "from sklearn.preprocessing import StandardScaler as std_scaler, OneHotEncoder as OHE\n",
    "import pickle\n",
    "import json\n",
    "import matplotlib.pyplot as plt\n",
    "import time\n",
    "import gc"
   ]
  },
  {
   "cell_type": "code",
   "execution_count": 3,
   "metadata": {
    "scrolled": true
   },
   "outputs": [
    {
     "name": "stdout",
     "output_type": "stream",
     "text": [
      "[]\n"
     ]
    }
   ],
   "source": [
    "print(tf.config.list_physical_devices('GPU'))"
   ]
  },
  {
   "cell_type": "code",
   "execution_count": 4,
   "metadata": {},
   "outputs": [],
   "source": [
    "pd.set_option('display.max_columns', 500)\n",
    "pd.set_option('display.max_rows', 300)\n",
    "pd.set_option('display.width', 1000)"
   ]
  },
  {
   "cell_type": "markdown",
   "metadata": {},
   "source": [
    "# 2 - Defining and training models"
   ]
  },
  {
   "cell_type": "markdown",
   "metadata": {},
   "source": [
    "## 2.1 - Importing data"
   ]
  },
  {
   "cell_type": "code",
   "execution_count": 5,
   "metadata": {},
   "outputs": [],
   "source": [
    "# Handling jaguar movement data\n",
    "class JaguarDataHandler():\n",
    "    def __init__(self, directory = \"./data/jaguar_data/\"):\n",
    "        self.directory = directory\n",
    "        self.datasets = []\n",
    "        self.training_Xs = []\n",
    "        self.training_Ys = []\n",
    "        \n",
    "    def load_data(self, IDs = None):\n",
    "        for id in IDs:\n",
    "            name = \"jag_\"+str(id)+\".csv\"\n",
    "            chunk = pd.read_csv(self.directory+name, sep = \",\", decimal = \".\", chunksize = 10000)\n",
    "            data = pd.concat(chunk, ignore_index = True)\n",
    "            del chunk\n",
    "            self.datasets.append(\n",
    "                data\n",
    "            )\n",
    "        return 0\n",
    "    \n",
    "    def data2training(self, variables, target_variables, target, step_ID, jaguar_ID = None,\n",
    "                      del_IDs = True, del_original = False):\n",
    "        \n",
    "        if not target in target_variables:\n",
    "            return -1\n",
    "        if del_IDs and not step_ID:\n",
    "            return -1\n",
    "        \n",
    "        for data in self.datasets:\n",
    "            J = data.copy()\n",
    "            X = J.filter(variables)\n",
    "            Y = J.filter(target_variables)\n",
    "            step_id = J[step_ID].unique()\n",
    "            X_tf = []\n",
    "            Y_tf = []\n",
    "            for i in step_id:\n",
    "                X_tmp = X[(X[step_ID] == i)]\n",
    "                Y_tmp = Y[(Y[step_ID] == i)]\n",
    "                Y_tmp = Y_tmp.filter([target])\n",
    "                \n",
    "                if del_IDs:\n",
    "                    X_tmp.drop([jaguar_ID, step_ID], axis = 1, inplace = True)\n",
    "                \n",
    "                X_tf.append(X_tmp.to_numpy())\n",
    "                Y_tf.append(Y_tmp.to_numpy().T)\n",
    "            X_tf = tf.constant(X_tf)\n",
    "            Y_tf = tf.constant(Y_tf)\n",
    "            Y_tf = tf.reshape(Y_tf, [Y_tf.shape[0],Y_tf.shape[2]])\n",
    "            self.training_Xs.append(X_tf)\n",
    "            self.training_Ys.append(Y_tf)\n",
    "        \n",
    "        if del_original:\n",
    "            self.datasets = []\n",
    "            \n",
    "        return 0\n",
    "        "
   ]
  },
  {
   "cell_type": "code",
   "execution_count": 6,
   "metadata": {},
   "outputs": [],
   "source": [
    "# Create data handler\n",
    "data_handler = JaguarDataHandler()"
   ]
  },
  {
   "cell_type": "code",
   "execution_count": 7,
   "metadata": {},
   "outputs": [
    {
     "data": {
      "text/plain": [
       "0"
      ]
     },
     "execution_count": 7,
     "metadata": {},
     "output_type": "execute_result"
    }
   ],
   "source": [
    "# Importing Jaguar 12's data\n",
    "data_handler.load_data(IDs = [12,13,18,22,23,41,52,81,88,91,92,116,117])"
   ]
  },
  {
   "cell_type": "code",
   "execution_count": 49,
   "metadata": {},
   "outputs": [],
   "source": [
    "x0 = data_handler.datasets[0]"
   ]
  },
  {
   "cell_type": "code",
   "execution_count": 53,
   "metadata": {},
   "outputs": [
    {
     "data": {
      "text/plain": [
       "<matplotlib.collections.PathCollection at 0x28d037cb280>"
      ]
     },
     "execution_count": 53,
     "metadata": {},
     "output_type": "execute_result"
    },
    {
     "data": {
      "image/png": "[encoded data removed]",
      "text/plain": [
       "<Figure size 432x288 with 1 Axes>"
      ]
     },
     "metadata": {
      "needs_background": "light"
     },
     "output_type": "display_data"
    }
   ],
   "source": [
    "plt.figure()\n",
    "x01 = x0[x0['step_Num'] == 2].reset_index()\n",
    "x01.drop('index',axis=1,inplace=True)\n",
    "plt.scatter(x01['suggested_x'][1:], x01['suggested_y'][1:], marker='x', color='b')\n",
    "plt.scatter(x01['current_x'][0], x01['current_y'][0], marker='o', color = 'g')\n",
    "plt.scatter(x01['suggested_x'][0], x01['suggested_y'][0], marker='o', color='r')"
   ]
  },
  {
   "cell_type": "code",
   "execution_count": 42,
   "metadata": {},
   "outputs": [
    {
     "data": {
      "text/plain": [
       "array([ 1.11263813, -0.38855891])"
      ]
     },
     "execution_count": 42,
     "metadata": {},
     "output_type": "execute_result"
    }
   ],
   "source": [
    "np.mean([x01['suggested_x'][1:], x01['suggested_y'][1:]],axis=1)"
   ]
  },
  {
   "cell_type": "code",
   "execution_count": 43,
   "metadata": {},
   "outputs": [
    {
     "data": {
      "text/plain": [
       "(1.1134696605508, -0.3940127154444753)"
      ]
     },
     "execution_count": 43,
     "metadata": {},
     "output_type": "execute_result"
    }
   ],
   "source": [
    "x01['current_x'][0], x01['current_y'][0]"
   ]
  },
  {
   "cell_type": "code",
   "execution_count": 44,
   "metadata": {},
   "outputs": [
    {
     "data": {
      "text/plain": [
       "(1.3164319874609574, -0.5216168862226767)"
      ]
     },
     "execution_count": 44,
     "metadata": {},
     "output_type": "execute_result"
    }
   ],
   "source": [
    "x01['suggested_x'][0], x01['suggested_y'][0]"
   ]
  },
  {
   "cell_type": "markdown",
   "metadata": {},
   "source": [
    "## Organize dataset"
   ]
  },
  {
   "cell_type": "code",
   "execution_count": 39,
   "metadata": {},
   "outputs": [],
   "source": [
    "def organizer(x):\n",
    "    x0 = x.copy()\n",
    "    x0['month'] = 0\n",
    "    x0['month'] = np.where((x0['month_Jan'] == 1), 1,\n",
    "                  np.where((x0['month_Feb'] == 1), 2,\n",
    "                  np.where((x0['month_Mar'] == 1), 3,\n",
    "                  np.where((x0['month_Apr'] == 1), 4,\n",
    "                  np.where((x0['month_May'] == 1), 5,\n",
    "                  np.where((x0['month_Jun'] == 1), 6,\n",
    "                  np.where((x0['month_Jul'] == 1), 7,\n",
    "                  np.where((x0['month_Aug'] == 1), 8,\n",
    "                  np.where((x0['month_Sep'] == 1), 9,\n",
    "                  np.where((x0['month_Oct'] == 1), 10,\n",
    "                  np.where((x0['month_Nov'] == 1), 11,\n",
    "                  np.where((x0['month_Dec'] == 1), 12, 0)))))))))))) / 12\n",
    "    x0.drop([\n",
    "    'month_Jan',\n",
    "    'month_Feb',\n",
    "    'month_Mar',\n",
    "    'month_Apr',\n",
    "    'month_May',\n",
    "    'month_Jun',\n",
    "    'month_Jul',\n",
    "    'month_Aug',\n",
    "    'month_Sep',\n",
    "    'month_Oct',\n",
    "    'month_Nov',\n",
    "    'month_Dec'\n",
    "            ],inplace=True,axis=1)\n",
    "\n",
    "    # Target labels\n",
    "    y0 = x0[x0['case_'] == 1].filter(['jaguar_ID', 'step_Num', 'suggested_x', 'suggested_y'])\n",
    "    y0 = y0[y0['step_Num'] != 1]\n",
    "    y0['step_Num'] = y0['step_Num']-1\n",
    "\n",
    "    # Reorganize current step data\n",
    "    x0_alt = x0.copy()\n",
    "    for i in range(len(x0['step_Num'].unique()),1,-1):\n",
    "        tmp = x0[(x0['case_'] == 1) & (x0['step_Num'] == i-1)]\n",
    "        tmp['case_'] = 2\n",
    "        tmp['step_Num'] = i\n",
    "        x0_alt[(x0_alt['case_'] == 1) & (x0_alt['step_Num'] == i)] = tmp.to_numpy()\n",
    "    x0 = x0_alt.copy()\n",
    "    del x0_alt\n",
    "\n",
    "    x0 = x0[x0['step_Num'] != 1]\n",
    "\n",
    "    x0['step_Num'] = x0['step_Num']-1\n",
    "\n",
    "    all_steps = []\n",
    "    for i in range(1,len(x0['step_Num'].unique())+1):\n",
    "        print(f\"{np.round(100*i/len(x0['step_Num'].unique()),2)}% concluido\",end=\"\\r\")\n",
    "        # All steps\n",
    "        step = x0[x0['step_Num'] == i]\n",
    "\n",
    "        # Current position variables\n",
    "        step_current = step[step['case_'] == 2]\n",
    "        # Filter for useful variables at current position\n",
    "        step_current = step_current.filter(\n",
    "        ['hour', 'month', 'topo', 'slope', 'distdrain', 'distwater', 'tcover', 'MaxNDVI', 'MedNDVI',\n",
    "         'landcover', 'distanthropic', 'humanfoot', 'dist12', 'dist345', 'popden', 'livestock', 'distPA',\n",
    "         'landC_anthropic', 'landC_natural', 'landC_water', 'landC2_agro', 'landC2_nat_cover', 'landC2_nat_uncover',\n",
    "         'landC2_water', 'landC3_forest', 'landC3_grassland', 'landC3_pasture_mosaic', 'landC3_shrubland', 'landC3_water',\n",
    "         'landC3_wetland_mangrove'\n",
    "        ])\n",
    "\n",
    "        # All other steps variables and positions\n",
    "        step = step[step['case_'] != 2]\n",
    "        # Current time and space coordinates\n",
    "        step_cur_coords = step.filter(['jaguar_ID', 'step_Num', 'current_x', 'current_y', 'hour', 'month'])\n",
    "        step_cur_coords.drop_duplicates(inplace=True)\n",
    "        if len(step_cur_coords) > 1:\n",
    "            step_cur_coords = step_cur_coords.iloc[[0]]\n",
    "        \n",
    "        step.drop(['jaguar_ID', 'step_Num', 'current_x','current_y','dt_','turning_angle','dt','age','weight','speed_kmh',\n",
    "                   'sl', 'speed', 'nsd_', 'dir_abs', 'dir_rel', 'long_x', 'lat_y', 'idloc','biome',\n",
    "                   'ecoregion', 'case_', 'hour', 'month'], inplace=True, axis = 1)\n",
    "        step = step.to_numpy()\n",
    "        step = np.reshape(step,(31*200, ))\n",
    "        step_current = step_current.to_numpy()\n",
    "        step_current = step_current.flatten()\n",
    "\n",
    "        step = np.concatenate([step_current, step])\n",
    "\n",
    "        step_df = pd.DataFrame(np.reshape(step,[1,-1]))\n",
    "        step_cur_coords = step_cur_coords.reset_index()\n",
    "        step_cur_coords.drop('index',axis=1,inplace=True)\n",
    "        step_final = pd.concat([step_cur_coords, step_df],axis=1)\n",
    "\n",
    "        all_steps.append(step_final)\n",
    "        gc.collect()\n",
    "    gc.collect()\n",
    "\n",
    "    x_alt = pd.concat(all_steps)\n",
    "    return (x_alt, y0)"
   ]
  },
  {
   "cell_type": "code",
   "execution_count": 40,
   "metadata": {},
   "outputs": [
    {
     "data": {
      "text/plain": [
       "3011"
      ]
     },
     "execution_count": 40,
     "metadata": {},
     "output_type": "execute_result"
    }
   ],
   "source": [
    "gc.collect()"
   ]
  },
  {
   "cell_type": "code",
   "execution_count": 53,
   "metadata": {},
   "outputs": [
    {
     "name": "stderr",
     "output_type": "stream",
     "text": [
      "<ipython-input-39-a38e65ca0198>:39: SettingWithCopyWarning: \n",
      "A value is trying to be set on a copy of a slice from a DataFrame.\n",
      "Try using .loc[row_indexer,col_indexer] = value instead\n",
      "\n",
      "See the caveats in the documentation: https://pandas.pydata.org/pandas-docs/stable/user_guide/indexing.html#returning-a-view-versus-a-copy\n",
      "  tmp['case_'] = 2\n",
      "<ipython-input-39-a38e65ca0198>:40: SettingWithCopyWarning: \n",
      "A value is trying to be set on a copy of a slice from a DataFrame.\n",
      "Try using .loc[row_indexer,col_indexer] = value instead\n",
      "\n",
      "See the caveats in the documentation: https://pandas.pydata.org/pandas-docs/stable/user_guide/indexing.html#returning-a-view-versus-a-copy\n",
      "  tmp['step_Num'] = i\n"
     ]
    },
    {
     "name": "stdout",
     "output_type": "stream",
     "text": [
      "100.0% concluido\r"
     ]
    }
   ],
   "source": [
    "x0,y0 = organizer(data_handler.datasets[12].copy())\n",
    "x = pd.merge(x0,y0, on = ['jaguar_ID', 'step_Num'])\n",
    "x = x.add_prefix(\"v_\")\n",
    "x.to_csv(f\"C:/Users/Cliente/Desktop/Coding/Faculdade/8o Semestre/Trabalho de Formatura/00 - Animal Movement/animal-movement-model/data/rnn_jaguar_data/jag{int(x0.iloc[0,0])}_rnn.csv\",\n",
    "        index=False)"
   ]
  },
  {
   "cell_type": "code",
   "execution_count": null,
   "metadata": {},
   "outputs": [],
   "source": []
  }
 ],
 "metadata": {
  "kernelspec": {
   "display_name": "Python 3",
   "language": "python",
   "name": "python3"
  },
  "language_info": {
   "codemirror_mode": {
    "name": "ipython",
    "version": 3
   },
   "file_extension": ".py",
   "mimetype": "text/x-python",
   "name": "python",
   "nbconvert_exporter": "python",
   "pygments_lexer": "ipython3",
   "version": "3.8.1"
  },
  "varInspector": {
   "cols": {
    "lenName": 16,
    "lenType": 16,
    "lenVar": 40
   },
   "kernels_config": {
    "python": {
     "delete_cmd_postfix": "",
     "delete_cmd_prefix": "del ",
     "library": "var_list.py",
     "varRefreshCmd": "print(var_dic_list())"
    },
    "r": {
     "delete_cmd_postfix": ") ",
     "delete_cmd_prefix": "rm(",
     "library": "var_list.r",
     "varRefreshCmd": "cat(var_dic_list()) "
    }
   },
   "oldHeight": 623,
   "position": {
    "height": "645px",
    "left": "1512px",
    "right": "20px",
    "top": "108px",
    "width": "363px"
   },
   "types_to_exclude": [
    "module",
    "function",
    "builtin_function_or_method",
    "instance",
    "_Feature"
   ],
   "varInspector_section_display": "block",
   "window_display": true
  }
 },
 "nbformat": 4,
 "nbformat_minor": 4
}
